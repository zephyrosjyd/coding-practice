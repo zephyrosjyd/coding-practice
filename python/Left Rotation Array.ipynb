{
 "cells": [
  {
   "cell_type": "markdown",
   "metadata": {},
   "source": [
    "A left rotation operation on an array of size `n` shifts each of the array's 1 elements  unit to the left. For example, if left rotations are performed on array `[1,2,3,4,5]`, then the array would become `[3,4,5,1,2]`.\n",
    "\n",
    "Given an array of `n` integers and a number, `d`, perform `d` left rotations on the array. Then print the updated array as a single line of space-separated integers.\n",
    "\n",
    "#### Input Format\n",
    "\n",
    "The first line contains two space-separated integers denoting the respective values of `n`(the number of integers) and `d`(the number of left rotations you must perform). \n",
    "The second line contains `n` space-separated integers describing the respective elements of the array's initial state.\n",
    "\n",
    "#### Constraints\n",
    "* $1 \\leq n \\leq 10^5$\n",
    "* $1 \\leq d \\leq n$\n",
    "* $1 \\leq a_i \\leq 10^6$\n",
    "\n",
    "#### Output Format\n",
    "\n",
    "Print a single line of `n` space-separated integers denoting the final state of the array after performing `d` left rotations.\n",
    "\n",
    "##### Sample Input\n",
    "```\n",
    "5 4\n",
    "1 2 3 4 5\n",
    "```\n",
    "\n",
    "##### Sample Output\n",
    "```\n",
    "5 1 2 3 4\n",
    "```"
   ]
  },
  {
   "cell_type": "code",
   "execution_count": 1,
   "metadata": {},
   "outputs": [],
   "source": [
    "def array_left_rotation(a, n, k):\n",
    "    \n",
    "    result = [0] * n\n",
    "    for i in range(n):\n",
    "        result[i - k + n if i - k < 0 else i - k] = a[i]\n",
    "        \n",
    "    return result"
   ]
  },
  {
   "cell_type": "code",
   "execution_count": 2,
   "metadata": {},
   "outputs": [
    {
     "name": "stdout",
     "output_type": "stream",
     "text": [
      "5 4\n",
      "1 2 3 4 5\n",
      "5 1 2 3 4\n"
     ]
    }
   ],
   "source": [
    "n, k = map(int, input().strip().split(' '))\n",
    "a = list(map(int, input().strip().split(' ')))\n",
    "answer = array_left_rotation(a, n, k);\n",
    "print(*answer, sep=' ')"
   ]
  },
  {
   "cell_type": "code",
   "execution_count": null,
   "metadata": {},
   "outputs": [],
   "source": []
  }
 ],
 "metadata": {
  "kernelspec": {
   "display_name": "Python 3",
   "language": "python",
   "name": "python3"
  },
  "language_info": {
   "codemirror_mode": {
    "name": "ipython",
    "version": 3
   },
   "file_extension": ".py",
   "mimetype": "text/x-python",
   "name": "python",
   "nbconvert_exporter": "python",
   "pygments_lexer": "ipython3",
   "version": "3.6.4"
  }
 },
 "nbformat": 4,
 "nbformat_minor": 2
}
