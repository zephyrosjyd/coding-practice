{
 "cells": [
  {
   "cell_type": "markdown",
   "metadata": {},
   "source": [
    "### 문자열 두 개가 주어졌을 때 이 둘이 서로 순열 관계에 있는지 확인하는 메서드를 작성하라."
   ]
  },
  {
   "cell_type": "code",
   "execution_count": 1,
   "metadata": {
    "collapsed": true
   },
   "outputs": [],
   "source": [
    "import time\n",
    "\n",
    "def timeit(f):\n",
    "\n",
    "    def timed(*args, **kw):\n",
    "\n",
    "        ts = time.time()\n",
    "        result = f(*args, **kw)\n",
    "        te = time.time()\n",
    "\n",
    "        print('func:%r \\nargs:[%r, %r] \\ntook: %2.4f sec' % (f.__name__, args, kw, te-ts))\n",
    "        return result\n",
    "\n",
    "    return timed"
   ]
  },
  {
   "cell_type": "markdown",
   "metadata": {},
   "source": [
    "* 두 문자열의 길이가 같다\n",
    "* 정렬하여 비교하면 같다\n",
    "* 각 문자의 출현 횟수가 같다"
   ]
  },
  {
   "cell_type": "code",
   "execution_count": 22,
   "metadata": {
    "collapsed": true
   },
   "outputs": [],
   "source": [
    "@timeit\n",
    "def isPermutation(str1, str2):\n",
    "    \n",
    "    if len(str1) is not len(str2):\n",
    "        return False\n",
    "    \n",
    "    return sorted(str1) == sorted(str2)"
   ]
  },
  {
   "cell_type": "code",
   "execution_count": 45,
   "metadata": {},
   "outputs": [
    {
     "name": "stdout",
     "output_type": "stream",
     "text": [
      "True\n",
      "True\n",
      "0\n"
     ]
    },
    {
     "data": {
      "text/plain": [
       "['a', 'b', 'c']"
      ]
     },
     "execution_count": 45,
     "metadata": {},
     "output_type": "execute_result"
    }
   ],
   "source": [
    "print(sorted('abc') == sorted('cba'))\n",
    "if not None:\n",
    "    print(True)\n",
    "\n",
    "print(0 ^ 0)\n",
    "sorted('cba')"
   ]
  },
  {
   "cell_type": "code",
   "execution_count": 24,
   "metadata": {},
   "outputs": [
    {
     "name": "stdout",
     "output_type": "stream",
     "text": [
      "func:'isPermutation' \n",
      "args:[('hi there', 'there hi '), {}] \n",
      "took: 0.0000 sec\n"
     ]
    },
    {
     "data": {
      "text/plain": [
       "False"
      ]
     },
     "execution_count": 24,
     "metadata": {},
     "output_type": "execute_result"
    }
   ],
   "source": [
    "isPermutation('hi there', 'there hi ')"
   ]
  },
  {
   "cell_type": "code",
   "execution_count": 25,
   "metadata": {},
   "outputs": [
    {
     "name": "stdout",
     "output_type": "stream",
     "text": [
      "func:'isPermutation' \n",
      "args:[('hi there', 'there hi'), {}] \n",
      "took: 0.0000 sec\n"
     ]
    },
    {
     "data": {
      "text/plain": [
       "True"
      ]
     },
     "execution_count": 25,
     "metadata": {},
     "output_type": "execute_result"
    }
   ],
   "source": [
    "isPermutation('hi there', 'there hi')"
   ]
  },
  {
   "cell_type": "code",
   "execution_count": 46,
   "metadata": {
    "collapsed": true
   },
   "outputs": [],
   "source": [
    "def toggleBit(value, mask):\n",
    "    \n",
    "    if value & mask:    # if on\n",
    "        value &= ~mask  # set off\n",
    "    else:\n",
    "        value |= mask   # set on\n",
    "        \n",
    "    return value\n",
    "\n",
    "@timeit\n",
    "def isPermutation2(str1, str2):\n",
    "    \n",
    "    if len(str1) != len(str2):\n",
    "        return False\n",
    "    \n",
    "    chars = 0    # an integer for bitwise operation\n",
    "    for i in range(len(str1)):\n",
    "        chars = toggleBit(chars, (1 << ord(str1[i])))\n",
    "        chars = toggleBit(chars, (1 << ord(str2[i])))\n",
    "        \n",
    "    return chars == 0"
   ]
  },
  {
   "cell_type": "code",
   "execution_count": 47,
   "metadata": {},
   "outputs": [
    {
     "name": "stdout",
     "output_type": "stream",
     "text": [
      "func:'isPermutation2' \n",
      "args:[('hi there', 'there hi '), {}] \n",
      "took: 0.0000 sec\n"
     ]
    },
    {
     "data": {
      "text/plain": [
       "False"
      ]
     },
     "execution_count": 47,
     "metadata": {},
     "output_type": "execute_result"
    }
   ],
   "source": [
    "isPermutation2('hi there', 'there hi ')"
   ]
  },
  {
   "cell_type": "code",
   "execution_count": 48,
   "metadata": {},
   "outputs": [
    {
     "name": "stdout",
     "output_type": "stream",
     "text": [
      "func:'isPermutation2' \n",
      "args:[('hi there', 'there hi'), {}] \n",
      "took: 0.0000 sec\n"
     ]
    },
    {
     "data": {
      "text/plain": [
       "True"
      ]
     },
     "execution_count": 48,
     "metadata": {},
     "output_type": "execute_result"
    }
   ],
   "source": [
    "isPermutation2('hi there', 'there hi')"
   ]
  },
  {
   "cell_type": "code",
   "execution_count": 49,
   "metadata": {},
   "outputs": [
    {
     "name": "stdout",
     "output_type": "stream",
     "text": [
      "func:'isPermutation2' \n",
      "args:[('debugging extensions. For those to work we will have to wait', 'ging  haveextensions. to waitFor thosedebug to work we will'), {}] \n",
      "took: 0.0000 sec\n"
     ]
    },
    {
     "data": {
      "text/plain": [
       "False"
      ]
     },
     "execution_count": 49,
     "metadata": {},
     "output_type": "execute_result"
    }
   ],
   "source": [
    "str1 = 'debugging extensions. For those to work we will have to wait'\n",
    "str2 = 'ging  haveextensions. to waitFor thosedebug to work we will'\n",
    "isPermutation2(str1, str2)"
   ]
  },
  {
   "cell_type": "code",
   "execution_count": 50,
   "metadata": {},
   "outputs": [
    {
     "name": "stdout",
     "output_type": "stream",
     "text": [
      "func:'isPermutation2' \n",
      "args:[('debugging extensions. For those to work we will have to wait', 'ging  haveextensions. to waitFor thosedebug to work we will '), {}] \n",
      "took: 0.0001 sec\n"
     ]
    },
    {
     "data": {
      "text/plain": [
       "True"
      ]
     },
     "execution_count": 50,
     "metadata": {},
     "output_type": "execute_result"
    }
   ],
   "source": [
    "str1 = 'debugging extensions. For those to work we will have to wait'\n",
    "str2 = 'ging  haveextensions. to waitFor thosedebug to work we will '\n",
    "isPermutation2(str1, str2)"
   ]
  },
  {
   "cell_type": "code",
   "execution_count": null,
   "metadata": {
    "collapsed": true
   },
   "outputs": [],
   "source": []
  }
 ],
 "metadata": {
  "kernelspec": {
   "display_name": "Python 3",
   "language": "python",
   "name": "python3"
  },
  "language_info": {
   "codemirror_mode": {
    "name": "ipython",
    "version": 3
   },
   "file_extension": ".py",
   "mimetype": "text/x-python",
   "name": "python",
   "nbconvert_exporter": "python",
   "pygments_lexer": "ipython3",
   "version": "3.5.4"
  }
 },
 "nbformat": 4,
 "nbformat_minor": 2
}
