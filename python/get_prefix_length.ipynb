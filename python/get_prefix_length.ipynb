{
 "cells": [
  {
   "cell_type": "markdown",
   "metadata": {},
   "source": [
    "문자열 배열(string array)이 주어지면, 제일 긴 공통된 접두사(prefix)의 길이를 찾으시오.\n",
    "\n",
    "예제)\n",
    "\n",
    "Input: [“apple”, “apps”, “ape”]\n",
    "\n",
    "Output: 2 // “ap”\n",
    "\n",
    "Input: [“hawaii”, “happy”]\n",
    "\n",
    "Output: 2 // “ha”\n",
    "\n",
    "Input: [“dog”, “dogs”, “doge”]\n",
    "\n",
    "Output: 3 // “dog”\n"
   ]
  },
  {
   "cell_type": "code",
   "execution_count": 1,
   "metadata": {},
   "outputs": [],
   "source": [
    "def get_prefix(arr):\n",
    "    if not len(arr):\n",
    "        return 0\n",
    "    \n",
    "    max_prefix = arr[0]\n",
    "    for i in range(len(max_prefix)):\n",
    "        c = max_prefix[i]\n",
    "        for w in arr[1:]:\n",
    "            if i == len(w) or w[i] != c:\n",
    "                return i\n",
    "    return len(max_prefix)"
   ]
  },
  {
   "cell_type": "code",
   "execution_count": 9,
   "metadata": {},
   "outputs": [],
   "source": [
    "a = ['apple', 'apps', 'ap']\n",
    "#a = ['hawaii', 'happy']\n",
    "#a = ['dog', 'dogs', 'doge']"
   ]
  },
  {
   "cell_type": "code",
   "execution_count": 10,
   "metadata": {},
   "outputs": [
    {
     "data": {
      "text/plain": [
       "2"
      ]
     },
     "execution_count": 10,
     "metadata": {},
     "output_type": "execute_result"
    }
   ],
   "source": [
    "get_prefix(a)"
   ]
  },
  {
   "cell_type": "code",
   "execution_count": null,
   "metadata": {},
   "outputs": [],
   "source": []
  }
 ],
 "metadata": {
  "kernelspec": {
   "display_name": "Python [default]",
   "language": "python",
   "name": "python3"
  },
  "language_info": {
   "codemirror_mode": {
    "name": "ipython",
    "version": 3
   },
   "file_extension": ".py",
   "mimetype": "text/x-python",
   "name": "python",
   "nbconvert_exporter": "python",
   "pygments_lexer": "ipython3",
   "version": "3.6.4"
  }
 },
 "nbformat": 4,
 "nbformat_minor": 2
}
