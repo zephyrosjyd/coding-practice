{
 "cells": [
  {
   "cell_type": "code",
   "execution_count": 1,
   "metadata": {},
   "outputs": [],
   "source": [
    "with open('shoppinglist.txt', 'w') as fileobj:\n",
    "    fileobj.write('tomato\\npasta\\ngarlic')"
   ]
  },
  {
   "cell_type": "code",
   "execution_count": 2,
   "metadata": {},
   "outputs": [
    {
     "name": "stdout",
     "output_type": "stream",
     "text": [
      "['tomato\\n', 'pasta\\n', 'garlic']\n"
     ]
    }
   ],
   "source": [
    "with open('shoppinglist.txt', 'r') as fileobj:\n",
    "    lines = fileobj.readlines()\n",
    "    \n",
    "print(lines)"
   ]
  },
  {
   "cell_type": "code",
   "execution_count": 3,
   "metadata": {},
   "outputs": [
    {
     "name": "stdout",
     "output_type": "stream",
     "text": [
      "['tomato', 'pasta', 'garlic']\n"
     ]
    }
   ],
   "source": [
    "with open('shoppinglist.txt', 'r') as fo:\n",
    "    content = fo.read()\n",
    "    lines = content.split('\\n')\n",
    "    \n",
    "print(lines)"
   ]
  },
  {
   "cell_type": "code",
   "execution_count": 4,
   "metadata": {},
   "outputs": [
    {
     "name": "stdout",
     "output_type": "stream",
     "text": [
      "['tomato', 'pasta', 'garlic']\n"
     ]
    }
   ],
   "source": [
    "with open('shoppinglist.txt', 'r') as fo:\n",
    "    lines = []\n",
    "    for line in fo:\n",
    "        lines.append(line.strip())\n",
    "        \n",
    "print(lines)"
   ]
  },
  {
   "cell_type": "code",
   "execution_count": 6,
   "metadata": {},
   "outputs": [
    {
     "name": "stdout",
     "output_type": "stream",
     "text": [
      "We are at 0.\n"
     ]
    }
   ],
   "source": [
    "fp = open('shoppinglist.txt', 'r')\n",
    "pos = fp.tell()\n",
    "print('We are at %u.' % pos)"
   ]
  },
  {
   "cell_type": "code",
   "execution_count": 7,
   "metadata": {},
   "outputs": [
    {
     "name": "stdout",
     "output_type": "stream",
     "text": [
      "This file was 21 characters long.\n"
     ]
    }
   ],
   "source": [
    "content = fp.read()\n",
    "end = fp.tell()\n",
    "print('This file was %u characters long.' % end)\n",
    "fp.close()"
   ]
  },
  {
   "cell_type": "code",
   "execution_count": 8,
   "metadata": {},
   "outputs": [
    {
     "name": "stdout",
     "output_type": "stream",
     "text": [
      "We are at character #7.\n"
     ]
    }
   ],
   "source": [
    "fp = open('shoppinglist.txt', 'r')\n",
    "fp.seek(7)\n",
    "pos = fp.tell()\n",
    "print('We are at character #%u.' % pos)"
   ]
  },
  {
   "cell_type": "code",
   "execution_count": 9,
   "metadata": {},
   "outputs": [
    {
     "name": "stdout",
     "output_type": "stream",
     "text": [
      "\n",
      "pas\n",
      "We are at 11.\n"
     ]
    }
   ],
   "source": [
    "next4 = fp.read(4)\n",
    "print(next4)\n",
    "pos = fp.tell()\n",
    "print('We are at %u.' % pos)\n",
    "fp.close()"
   ]
  },
  {
   "cell_type": "code",
   "execution_count": 10,
   "metadata": {},
   "outputs": [
    {
     "name": "stdout",
     "output_type": "stream",
     "text": [
      "<class 'str'>\n"
     ]
    }
   ],
   "source": [
    "with open('shoppinglist.txt', 'r') as fileobj:\n",
    "    print(type(fileobj.read())) # <class 'str'>"
   ]
  },
  {
   "cell_type": "code",
   "execution_count": 11,
   "metadata": {},
   "outputs": [
    {
     "name": "stdout",
     "output_type": "stream",
     "text": [
      "<class 'bytes'>\n"
     ]
    }
   ],
   "source": [
    "with open('shoppinglist.txt', 'rb') as fileobj:\n",
    "    print(type(fileobj.read())) # <class 'bytes'>"
   ]
  },
  {
   "cell_type": "code",
   "execution_count": 14,
   "metadata": {},
   "outputs": [
    {
     "name": "stdout",
     "output_type": "stream",
     "text": [
      "That's not a number!\n"
     ]
    }
   ],
   "source": [
    "def input_number(msg, err_msg=None):\n",
    "    while True:\n",
    "        try:\n",
    "            return float(input(msg))\n",
    "        except ValueError:\n",
    "            if err_msg is not None:\n",
    "                print(err_msg)\n",
    "                \n",
    "user_num = input_number(\"input a number:\", \"That's not a number!\")"
   ]
  },
  {
   "cell_type": "code",
   "execution_count": 15,
   "metadata": {},
   "outputs": [
    {
     "name": "stdout",
     "output_type": "stream",
     "text": [
      "Hello, World!\n"
     ]
    }
   ],
   "source": [
    "print(\"Hello, \", end='')\n",
    "print(\"World!\")"
   ]
  },
  {
   "cell_type": "code",
   "execution_count": 16,
   "metadata": {},
   "outputs": [
    {
     "name": "stdout",
     "output_type": "stream",
     "text": [
      "Hello, World!"
     ]
    }
   ],
   "source": [
    "import sys\n",
    "sys.stdout.write(\"Hello, \")\n",
    "sys.stdout.write(\"World!\")"
   ]
  },
  {
   "cell_type": "code",
   "execution_count": 18,
   "metadata": {},
   "outputs": [
    {
     "name": "stdout",
     "output_type": "stream",
     "text": [
      "Not Found\n"
     ]
    }
   ],
   "source": [
    "try:\n",
    "    with open('fname', 'r') as fout:\n",
    "        pass\n",
    "except FileExistsError:\n",
    "    print('err')\n",
    "except FileNotFoundError:\n",
    "    print(\"Not Found\")"
   ]
  },
  {
   "cell_type": "code",
   "execution_count": 19,
   "metadata": {},
   "outputs": [
    {
     "name": "stdout",
     "output_type": "stream",
     "text": [
      "tomato\n",
      "\n",
      "pasta\n",
      "\n",
      "garlic\n"
     ]
    }
   ],
   "source": [
    "with open('shoppinglist.txt', 'r') as fp:\n",
    "    for line in fp:\n",
    "        print(line)"
   ]
  },
  {
   "cell_type": "code",
   "execution_count": 20,
   "metadata": {},
   "outputs": [
    {
     "name": "stdout",
     "output_type": "stream",
     "text": [
      "tomato\n",
      "\n",
      "pasta\n",
      "\n",
      "garlic\n"
     ]
    }
   ],
   "source": [
    "with open('shoppinglist.txt', 'r') as fp:\n",
    "    while True:\n",
    "        cur_line = fp.readline()\n",
    "        if cur_line == '':\n",
    "            break\n",
    "        print(cur_line)"
   ]
  },
  {
   "cell_type": "code",
   "execution_count": 23,
   "metadata": {},
   "outputs": [
    {
     "name": "stdout",
     "output_type": "stream",
     "text": [
      "Line 0: tomato\n",
      "Line 1: pasta\n",
      "Line 2: garlic\n"
     ]
    }
   ],
   "source": [
    "with open('shoppinglist.txt', 'r') as fp:\n",
    "    lines = fp.readlines()\n",
    "    for i in range(len(lines)):\n",
    "        print(\"Line \" + str(i) + \": \" + lines[i].strip())"
   ]
  },
  {
   "cell_type": "code",
   "execution_count": 8,
   "metadata": {},
   "outputs": [
    {
     "name": "stdout",
     "output_type": "stream",
     "text": [
      ".\\array.ipynb\n",
      ".\\basic IO.ipynb\n",
      ".\\boolean operation.ipynb\n",
      ".\\dictionary.ipynb\n",
      ".\\double loops with list comprehension.ipynb\n",
      ".\\floats-10M-lines.txt\n",
      ".\\floats-10M.npy\n",
      ".\\floats.bin\n",
      ".\\heapq.ipynb\n",
      ".\\if-else test.ipynb\n",
      ".\\IPythonAndJupyter1.ipynb\n",
      ".\\IPythonAndJupyter2.ipynb\n",
      ".\\magic methods.ipynb\n",
      ".\\myfileinput.py\n",
      ".\\mystdin.py\n",
      ".\\numpy-array-broadcasting.ipynb\n",
      ".\\numpy-array-FancyIndexing.ipynb\n",
      ".\\numpy-array-sorting.ipynb\n",
      ".\\numpy-array-UFuncs.ipynb\n",
      ".\\numpy-array.ipynb\n",
      ".\\numpy-array2.ipynb\n",
      ".\\numpy.ipynb\n",
      ".\\president_heights.csv\n",
      ".\\Seattle2014.csv\n",
      ".\\shoppinglist.txt\n",
      ".\\tuple.ipynb\n",
      ".\\variables.ipynb\n",
      ".\\.ipynb_checkpoints\\array-checkpoint.ipynb\n",
      ".\\.ipynb_checkpoints\\basic IO-checkpoint.ipynb\n",
      ".\\.ipynb_checkpoints\\boolean operation-checkpoint.ipynb\n",
      ".\\.ipynb_checkpoints\\dictionary-checkpoint.ipynb\n",
      ".\\.ipynb_checkpoints\\double loops with list comprehension-checkpoint.ipynb\n",
      ".\\.ipynb_checkpoints\\heapq-checkpoint.ipynb\n",
      ".\\.ipynb_checkpoints\\IPythonAndJupyter1-checkpoint.ipynb\n",
      ".\\.ipynb_checkpoints\\IPythonAndJupyter2-checkpoint.ipynb\n",
      ".\\.ipynb_checkpoints\\magic methods-checkpoint.ipynb\n",
      ".\\.ipynb_checkpoints\\numpy-array-broadcasting-checkpoint.ipynb\n",
      ".\\.ipynb_checkpoints\\numpy-array-checkpoint.ipynb\n",
      ".\\.ipynb_checkpoints\\numpy-array-FancyIndexing-checkpoint.ipynb\n",
      ".\\.ipynb_checkpoints\\numpy-array-sorting-checkpoint.ipynb\n",
      ".\\.ipynb_checkpoints\\numpy-array-UFuncs-checkpoint.ipynb\n",
      ".\\.ipynb_checkpoints\\numpy-array2-checkpoint.ipynb\n",
      ".\\.ipynb_checkpoints\\numpy-checkpoint.ipynb\n",
      ".\\.ipynb_checkpoints\\tuple-checkpoint.ipynb\n",
      ".\\.ipynb_checkpoints\\variables-checkpoint.ipynb\n"
     ]
    }
   ],
   "source": [
    "import os\n",
    "path = '.'\n",
    "for root, folders, files in os.walk(path):\n",
    "    for fname in files:\n",
    "        print(root +'\\\\' + fname)"
   ]
  },
  {
   "cell_type": "code",
   "execution_count": 9,
   "metadata": {},
   "outputs": [
    {
     "name": "stdout",
     "output_type": "stream",
     "text": [
      "array.ipynb\n",
      "basic IO.ipynb\n",
      "boolean operation.ipynb\n",
      "dictionary.ipynb\n",
      "double loops with list comprehension.ipynb\n",
      "floats-10M-lines.txt\n",
      "floats-10M.npy\n",
      "floats.bin\n",
      "heapq.ipynb\n",
      "if-else test.ipynb\n",
      "IPythonAndJupyter1.ipynb\n",
      "IPythonAndJupyter2.ipynb\n",
      "magic methods.ipynb\n",
      "myfileinput.py\n",
      "mystdin.py\n",
      "numpy-array-broadcasting.ipynb\n",
      "numpy-array-FancyIndexing.ipynb\n",
      "numpy-array-sorting.ipynb\n",
      "numpy-array-UFuncs.ipynb\n",
      "numpy-array.ipynb\n",
      "numpy-array2.ipynb\n",
      "numpy.ipynb\n",
      "president_heights.csv\n",
      "Seattle2014.csv\n",
      "shoppinglist.txt\n",
      "tuple.ipynb\n",
      "variables.ipynb\n"
     ]
    }
   ],
   "source": [
    "for entry in os.scandir(path):\n",
    "    if not entry.name.startswith('.') and entry.is_file():\n",
    "        print(entry.name)"
   ]
  },
  {
   "cell_type": "code",
   "execution_count": 10,
   "metadata": {},
   "outputs": [],
   "source": [
    "with open('myfile.txt', 'w', encoding='utf-8') as f:\n",
    "    f.write('utf-8 text')"
   ]
  },
  {
   "cell_type": "code",
   "execution_count": 12,
   "metadata": {},
   "outputs": [
    {
     "name": "stdout",
     "output_type": "stream",
     "text": [
      "utf-8 text\n"
     ]
    }
   ],
   "source": [
    "!cat myfile.txt"
   ]
  },
  {
   "cell_type": "code",
   "execution_count": 41,
   "metadata": {},
   "outputs": [
    {
     "name": "stdout",
     "output_type": "stream",
     "text": [
      "I'm Not Dead Yet!\n",
      "I'm Not Dead Yet!\n"
     ]
    }
   ],
   "source": [
    "with open('fred.txt', 'w') as out:\n",
    "    s = \"I'm Not Dead Yet!\"\n",
    "    print(s)\n",
    "    print(s, file=out)  # writes to outfile\n",
    "    \n",
    "    f = None\n",
    "    print(s, file=f)  # writes to stdout"
   ]
  },
  {
   "cell_type": "code",
   "execution_count": 14,
   "metadata": {},
   "outputs": [
    {
     "name": "stdout",
     "output_type": "stream",
     "text": [
      "I'm Not Dead Yet!\n"
     ]
    }
   ],
   "source": [
    "!cat fred.txt"
   ]
  },
  {
   "cell_type": "code",
   "execution_count": 21,
   "metadata": {},
   "outputs": [
    {
     "name": "stdout",
     "output_type": "stream",
     "text": [
      "[Errno 2] No such file or directory: 'not-there.txt'\n"
     ]
    }
   ],
   "source": [
    "import errno\n",
    "\n",
    "path = 'not-there.txt'\n",
    "try:\n",
    "    with open(path) as f:\n",
    "        print(f.read())\n",
    "except IOError as e:\n",
    "    print(e)\n",
    "    if e.errno != errno.ENOENT:  # errno.ENOENT == 2\n",
    "        raise"
   ]
  },
  {
   "cell_type": "code",
   "execution_count": 23,
   "metadata": {},
   "outputs": [
    {
     "data": {
      "text/plain": [
       "True"
      ]
     },
     "execution_count": 23,
     "metadata": {},
     "output_type": "execute_result"
    }
   ],
   "source": [
    "import os\n",
    "os.path.isfile('./fred.txt')"
   ]
  },
  {
   "cell_type": "code",
   "execution_count": 30,
   "metadata": {},
   "outputs": [
    {
     "name": "stdout",
     "output_type": "stream",
     "text": [
      "True\n"
     ]
    }
   ],
   "source": [
    "import pathlib\n",
    "path = pathlib.Path('fred.txt')\n",
    "print(path.is_file())    "
   ]
  },
  {
   "cell_type": "code",
   "execution_count": 34,
   "metadata": {},
   "outputs": [
    {
     "name": "stdout",
     "output_type": "stream",
     "text": [
      "True\n"
     ]
    }
   ],
   "source": [
    "path = '../python'\n",
    "print(os.path.exists(path))"
   ]
  },
  {
   "cell_type": "code",
   "execution_count": 52,
   "metadata": {},
   "outputs": [
    {
     "name": "stdout",
     "output_type": "stream",
     "text": [
      "b'Hello'\n",
      "b'Hello Python!\\n'\n",
      "b'Hello  World!\\n'\n",
      "b'Hello  World!\\n'\n"
     ]
    }
   ],
   "source": [
    "import mmap\n",
    "import os\n",
    "\n",
    "#os.chmod('shoppinglist.txt', 0o777)\n",
    "# with open(\"hello2.txt\", \"wb\") as f:\n",
    "#     f.write(b\"Hello Python!\\n\")\n",
    "\n",
    "with open('hello.txt', 'r+b') as fd:\n",
    "    # 0: map the whole file\n",
    "    mm = mmap.mmap(fd.fileno(), 0)\n",
    "    # print characters at indices 5 through 10\n",
    "    print(mm[:5])\n",
    "    # print the line starting from mm's current position\n",
    "    print(mm.readline())\n",
    "    # write a character to the 6th index\n",
    "    # note that new content must have same size\n",
    "    mm[6:] = b\" World!\\n\"\n",
    "    # return mm's position to the beginning of the file\n",
    "    mm.seek(0)\n",
    "    print(mm.readline())\n",
    "    # close the mmap object\n",
    "    mm.close()"
   ]
  },
  {
   "cell_type": "code",
   "execution_count": null,
   "metadata": {},
   "outputs": [],
   "source": []
  }
 ],
 "metadata": {
  "kernelspec": {
   "display_name": "Python 3",
   "language": "python",
   "name": "python3"
  },
  "language_info": {
   "codemirror_mode": {
    "name": "ipython",
    "version": 3
   },
   "file_extension": ".py",
   "mimetype": "text/x-python",
   "name": "python",
   "nbconvert_exporter": "python",
   "pygments_lexer": "ipython3",
   "version": "3.6.4"
  }
 },
 "nbformat": 4,
 "nbformat_minor": 2
}
