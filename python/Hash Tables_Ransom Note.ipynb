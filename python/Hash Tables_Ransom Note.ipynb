{
 "cells": [
  {
   "cell_type": "markdown",
   "metadata": {},
   "source": [
    "A kidnapper wrote a ransom note but is worried it will be traced back to him. He found a magazine and wants to know if he can cut out whole words from it and use them to create an untraceable replica of his ransom note. The words in his note are _case-sensitive_ and he _must_ use whole words available in the magazine, meaning he _cannot_ use substrings or concatenation to create the words he needs.\n",
    "\n",
    "Given the words in the magazine and the words in the ransom note, print `Yes` if he can replicate his ransom note _exactly_ using whole words from the magazine; otherwise, print `No`.\n",
    "\n",
    "#### Input Format\n",
    "\n",
    "The first line contains two space-separated integers describing the respective values of **m** (the number of words in the magazine) and **n** (the number of words in the ransom note). <br>\n",
    "The second line contains **m** space-separated strings denoting the words present in the magazine. \n",
    "The third line contains **n** space-separated strings denoting the words present in the ransom note.\n",
    "\n",
    "#### Constraints\n",
    "\n",
    "+ $1 \\leq m, n \\leq 30000$\n",
    "+ $1 \\leq $ length of any word $ \\leq 5$\n",
    "+ Each word consists of English alphabetic letters (i.e., **a** to **z** and **A** to **Z**).\n",
    "+ The words in the note and magazine are _case-sensitive_.\n",
    "\n",
    "#### Output Format\n",
    "\n",
    "Print `Yes` if he can use the magazine to create an untraceable replica of his ransom note; otherwise, print `No`.\n",
    "\n",
    "#### Sample Input 0\n",
    "```\n",
    "6 4\n",
    "give me one grand today night\n",
    "give one grand today\n",
    "```\n",
    "\n",
    "#### Sample Output 0\n",
    "```\n",
    "Yes\n",
    "```\n",
    "\n",
    "#### Sample Input 1\n",
    "```\n",
    "6 5\n",
    "two times three is not four\n",
    "two times two is four\n",
    "```\n",
    "\n",
    "#### Sample Output 1\n",
    "```\n",
    "No\n",
    "```\n",
    "#### Explanation 1\n",
    "\n",
    "_two should occur 2 times in magazine._\n",
    "\n"
   ]
  },
  {
   "cell_type": "code",
   "execution_count": 1,
   "metadata": {},
   "outputs": [],
   "source": [
    "def ransom_note(magazine, ransom):\n",
    "    #if m < n:\n",
    "    if len(magazine) < len(ransom):\n",
    "        return False\n",
    "    \n",
    "    wmap = {}\n",
    "    for w in magazine:\n",
    "        wmap.setdefault(w, 0)\n",
    "        wmap[w] += 1\n",
    "#         if w in wmap:\n",
    "#             wmap[w] += 1\n",
    "#         else:\n",
    "#             wmap[w] = 1\n",
    "            \n",
    "    for w in ransom:\n",
    "        if w not in wmap:\n",
    "            return False\n",
    "        wmap[w] -= 1\n",
    "        if wmap[w] < 0:\n",
    "            return False\n",
    "    \n",
    "    return True\n",
    "\n",
    "# m, n = map(int, input().strip().split(' '))\n",
    "# magazine = input().strip().split(' ')\n",
    "# ransom = input().strip().split(' ')\n",
    "# answer = ransom_note(magazine, ransom)\n",
    "# if(answer):\n",
    "#     print(\"Yes\")\n",
    "# else:\n",
    "#     print(\"No\")"
   ]
  },
  {
   "cell_type": "code",
   "execution_count": 6,
   "metadata": {},
   "outputs": [
    {
     "name": "stdout",
     "output_type": "stream",
     "text": [
      "1.81 µs ± 17.9 ns per loop (mean ± std. dev. of 7 runs, 1000000 loops each)\n",
      "No\n"
     ]
    }
   ],
   "source": [
    "magazine = \"give me one grand today night\".split(' ')\n",
    "ransom = \"give one grand today\".split(' ')\n",
    "%timeit answer = ransom_note(magazine, ransom)\n",
    "if(answer):\n",
    "    print(\"Yes\")\n",
    "else:\n",
    "    print(\"No\")"
   ]
  },
  {
   "cell_type": "code",
   "execution_count": 5,
   "metadata": {},
   "outputs": [
    {
     "name": "stdout",
     "output_type": "stream",
     "text": [
      "1.69 µs ± 37.8 ns per loop (mean ± std. dev. of 7 runs, 1000000 loops each)\n",
      "No\n"
     ]
    }
   ],
   "source": [
    "magazine = \"two times three is not four\".split(' ')\n",
    "ransom = \"two times two is four\".split(' ')\n",
    "%timeit answer = ransom_note(magazine, ransom)\n",
    "if(answer):\n",
    "    print(\"Yes\")\n",
    "else:\n",
    "    print(\"No\")"
   ]
  },
  {
   "cell_type": "code",
   "execution_count": 7,
   "metadata": {},
   "outputs": [],
   "source": [
    "def ransom_note2(magazine, ransom):\n",
    "    #if m < n:\n",
    "    if len(magazine) < len(ransom):\n",
    "        return False\n",
    "    \n",
    "    for w in ransom:\n",
    "        for i in range(len(magazine)):\n",
    "            if w == magazine[i]:\n",
    "                magazine[i] = ''\n",
    "                break\n",
    "        else:\n",
    "            return False\n",
    "                \n",
    "    return True"
   ]
  },
  {
   "cell_type": "code",
   "execution_count": 8,
   "metadata": {},
   "outputs": [
    {
     "name": "stdout",
     "output_type": "stream",
     "text": [
      "707 ns ± 11.7 ns per loop (mean ± std. dev. of 7 runs, 1000000 loops each)\n",
      "No\n"
     ]
    }
   ],
   "source": [
    "magazine = \"two times three is not four\".split(' ')\n",
    "ransom = \"two times two is four\".split(' ')\n",
    "%timeit answer = ransom_note2(magazine, ransom)\n",
    "if(answer):\n",
    "    print(\"Yes\")\n",
    "else:\n",
    "    print(\"No\")"
   ]
  },
  {
   "cell_type": "code",
   "execution_count": null,
   "metadata": {},
   "outputs": [],
   "source": []
  }
 ],
 "metadata": {
  "kernelspec": {
   "display_name": "Python [default]",
   "language": "python",
   "name": "python3"
  },
  "language_info": {
   "codemirror_mode": {
    "name": "ipython",
    "version": 3
   },
   "file_extension": ".py",
   "mimetype": "text/x-python",
   "name": "python",
   "nbconvert_exporter": "python",
   "pygments_lexer": "ipython3",
   "version": "3.6.4"
  }
 },
 "nbformat": 4,
 "nbformat_minor": 2
}
