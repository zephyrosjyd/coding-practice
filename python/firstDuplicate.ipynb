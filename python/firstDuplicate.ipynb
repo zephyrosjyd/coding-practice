{
 "cells": [
  {
   "cell_type": "markdown",
   "metadata": {},
   "source": [
    "#### Note: Write a solution with `O(n)` time complexity and `O(1)` additional space complexity, since this is what you would be asked to do during a real interview.\n",
    "\n",
    "### Given an array `a` that contains only numbers in the range from `1` to `a.length`, find the first duplicate number for which the second occurrence has the minimal index. In other words, if there are more than 1 duplicated numbers, return the number for which the second occurrence has a smaller index than the second occurrence of the other number does. If there are no such elements, return `-1`.\n",
    "\n",
    "##### Example\n",
    "\n",
    "+ For `a = [2, 3, 3, 1, 5, 2]`, the output should be\n",
    "`firstDuplicate(a) = 3`.\n",
    "\n",
    "There are `2` duplicates: numbers `2` and `3`. The second occurrence of `3` has a smaller index than than second occurrence of `2` does, so the answer is `3`.\n",
    "\n",
    "+ For `a = [2, 4, 3, 5, 1]`, the output should be\n",
    "`firstDuplicate(a) = -1`.\n",
    "\n",
    "##### Input/Output\n",
    "\n",
    "+ [execution time limit] 4 seconds (py3)\n",
    "\n",
    "+ [input] array.integer a\n",
    "\n",
    "+ Guaranteed constraints:\n",
    "\n",
    "$1 \\leq a.length \\leq 10^5$<br>\n",
    "$1 \\leq a[i] \\leq a.length$\n",
    "\n",
    "\n",
    "+ [output] integer\n",
    "\n",
    "The element in `a` that occurs in the array more than once and has the minimal index for its second occurrence. If there are no such elements, return `-1`."
   ]
  }
 ],
 "metadata": {
  "kernelspec": {
   "display_name": "Python 3",
   "language": "python",
   "name": "python3"
  },
  "language_info": {
   "codemirror_mode": {
    "name": "ipython",
    "version": 3
   },
   "file_extension": ".py",
   "mimetype": "text/x-python",
   "name": "python",
   "nbconvert_exporter": "python",
   "pygments_lexer": "ipython3",
   "version": "3.6.4"
  }
 },
 "nbformat": 4,
 "nbformat_minor": 2
}
