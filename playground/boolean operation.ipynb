{
 "cells": [
  {
   "cell_type": "markdown",
   "metadata": {},
   "source": [
    "#### Truth Values\n",
    "+ None\n",
    "+ False\n",
    "+ 0, or any numerical value equivalent to zero, for example 0L, 0.0, 0j\n",
    "+ Empty sequences: '', \"\", (), []\n",
    "+ Empty mappings: {}\n",
    "+ User-defined types where the __bool__ or __len__ methods return 0 or False\n",
    "\n",
    "All other values in Python evaluate to True."
   ]
  },
  {
   "cell_type": "code",
   "execution_count": 4,
   "metadata": {},
   "outputs": [],
   "source": [
    "# ['equal', 'greater than', 'less than', ][cmp(x,y)]  # python 2\n",
    "\n",
    "import functools\n",
    "functools.cmp_to_key?"
   ]
  },
  {
   "cell_type": "code",
   "execution_count": 6,
   "metadata": {},
   "outputs": [],
   "source": [
    "import datetime\n",
    "#aDate = datetime.date.today()\n",
    "aDate = aDate or datetime.date.today()"
   ]
  },
  {
   "cell_type": "code",
   "execution_count": null,
   "metadata": {},
   "outputs": [],
   "source": []
  }
 ],
 "metadata": {
  "kernelspec": {
   "display_name": "Python 3",
   "language": "python",
   "name": "python3"
  },
  "language_info": {
   "codemirror_mode": {
    "name": "ipython",
    "version": 3
   },
   "file_extension": ".py",
   "mimetype": "text/x-python",
   "name": "python",
   "nbconvert_exporter": "python",
   "pygments_lexer": "ipython3",
   "version": "3.6.4"
  }
 },
 "nbformat": 4,
 "nbformat_minor": 2
}
