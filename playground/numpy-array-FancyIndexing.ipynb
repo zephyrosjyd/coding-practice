{
 "cells": [
  {
   "cell_type": "code",
   "execution_count": 1,
   "metadata": {},
   "outputs": [],
   "source": [
    "import numpy as np"
   ]
  },
  {
   "cell_type": "code",
   "execution_count": 3,
   "metadata": {},
   "outputs": [
    {
     "name": "stdout",
     "output_type": "stream",
     "text": [
      "[51 92 14 71 60 20 82 86 74 74]\n"
     ]
    }
   ],
   "source": [
    "rand = np.random.RandomState(42)\n",
    "x = rand.randint(100, size=10)\n",
    "print(x)"
   ]
  },
  {
   "cell_type": "code",
   "execution_count": 4,
   "metadata": {},
   "outputs": [
    {
     "data": {
      "text/plain": [
       "[71, 86, 14]"
      ]
     },
     "execution_count": 4,
     "metadata": {},
     "output_type": "execute_result"
    }
   ],
   "source": [
    "[x[3], x[7], x[2]]"
   ]
  },
  {
   "cell_type": "code",
   "execution_count": 5,
   "metadata": {},
   "outputs": [
    {
     "data": {
      "text/plain": [
       "array([71, 86, 14])"
      ]
     },
     "execution_count": 5,
     "metadata": {},
     "output_type": "execute_result"
    }
   ],
   "source": [
    "ind = [3, 7, 2]\n",
    "x[ind]"
   ]
  },
  {
   "cell_type": "code",
   "execution_count": 6,
   "metadata": {},
   "outputs": [
    {
     "data": {
      "text/plain": [
       "array([[71, 86],\n",
       "       [60, 20]])"
      ]
     },
     "execution_count": 6,
     "metadata": {},
     "output_type": "execute_result"
    }
   ],
   "source": [
    "ind = np.array([[3,7], [4,5]])\n",
    "x[ind]"
   ]
  },
  {
   "cell_type": "code",
   "execution_count": 7,
   "metadata": {},
   "outputs": [
    {
     "data": {
      "text/plain": [
       "array([[ 0,  1,  2,  3],\n",
       "       [ 4,  5,  6,  7],\n",
       "       [ 8,  9, 10, 11]])"
      ]
     },
     "execution_count": 7,
     "metadata": {},
     "output_type": "execute_result"
    }
   ],
   "source": [
    "X = np.arange(12).reshape((3,4))\n",
    "X"
   ]
  },
  {
   "cell_type": "code",
   "execution_count": 8,
   "metadata": {},
   "outputs": [
    {
     "data": {
      "text/plain": [
       "array([ 2,  5, 11])"
      ]
     },
     "execution_count": 8,
     "metadata": {},
     "output_type": "execute_result"
    }
   ],
   "source": [
    "row = np.array([0, 1, 2])\n",
    "col = np.array([2, 1, 3])\n",
    "X[row, col]"
   ]
  },
  {
   "cell_type": "code",
   "execution_count": 10,
   "metadata": {},
   "outputs": [
    {
     "data": {
      "text/plain": [
       "array([[10,  9, 11],\n",
       "       [ 6,  5,  7],\n",
       "       [ 2,  1,  3]])"
      ]
     },
     "execution_count": 10,
     "metadata": {},
     "output_type": "execute_result"
    }
   ],
   "source": [
    "X[row[::-1, np.newaxis], col]"
   ]
  },
  {
   "cell_type": "code",
   "execution_count": 11,
   "metadata": {},
   "outputs": [
    {
     "data": {
      "text/plain": [
       "array([[0, 0, 0],\n",
       "       [2, 1, 3],\n",
       "       [4, 2, 6]])"
      ]
     },
     "execution_count": 11,
     "metadata": {},
     "output_type": "execute_result"
    }
   ],
   "source": [
    "row[:, np.newaxis] * col"
   ]
  },
  {
   "cell_type": "code",
   "execution_count": 12,
   "metadata": {},
   "outputs": [
    {
     "name": "stdout",
     "output_type": "stream",
     "text": [
      "[[ 0  1  2  3]\n",
      " [ 4  5  6  7]\n",
      " [ 8  9 10 11]]\n"
     ]
    }
   ],
   "source": [
    "print(X)"
   ]
  },
  {
   "cell_type": "code",
   "execution_count": 13,
   "metadata": {},
   "outputs": [
    {
     "data": {
      "text/plain": [
       "array([10,  8,  9])"
      ]
     },
     "execution_count": 13,
     "metadata": {},
     "output_type": "execute_result"
    }
   ],
   "source": [
    "X[2, [2, 0, 1]]"
   ]
  },
  {
   "cell_type": "code",
   "execution_count": 14,
   "metadata": {},
   "outputs": [
    {
     "data": {
      "text/plain": [
       "array([[ 0,  2],\n",
       "       [ 4,  6],\n",
       "       [ 8, 10]])"
      ]
     },
     "execution_count": 14,
     "metadata": {},
     "output_type": "execute_result"
    }
   ],
   "source": [
    "mask = np.array([1, 0, 1, 0], dtype=bool)\n",
    "X[row[:, np.newaxis], mask]"
   ]
  },
  {
   "cell_type": "code",
   "execution_count": 4,
   "metadata": {},
   "outputs": [
    {
     "data": {
      "text/plain": [
       "(100, 2)"
      ]
     },
     "execution_count": 4,
     "metadata": {},
     "output_type": "execute_result"
    }
   ],
   "source": [
    "mean = [0, 0]\n",
    "cov = [[1, 2], [2, 5]]\n",
    "X = rand.multivariate_normal(mean, cov, 100)\n",
    "X.shape"
   ]
  },
  {
   "cell_type": "code",
   "execution_count": 7,
   "metadata": {},
   "outputs": [
    {
     "data": {
      "text/plain": [
       "<matplotlib.collections.PathCollection at 0x1c3fcc0ae10>"
      ]
     },
     "execution_count": 7,
     "metadata": {},
     "output_type": "execute_result"
    },
    {
     "data": {
      "image/png": "[encoded data removed]",
      "text/plain": [
       "<matplotlib.figure.Figure at 0x1c3f9520a20>"
      ]
     },
     "metadata": {},
     "output_type": "display_data"
    }
   ],
   "source": [
    "%matplotlib inline\n",
    "import matplotlib.pyplot as plt\n",
    "import seaborn; seaborn.set()\n",
    "plt.scatter(X[:, 0], X[:, 1])"
   ]
  },
  {
   "cell_type": "code",
   "execution_count": 18,
   "metadata": {},
   "outputs": [
    {
     "data": {
      "text/plain": [
       "array([[-0.644508  , -0.46220608],\n",
       "       [ 0.7376352 ,  1.21236921],\n",
       "       [ 0.88151763,  1.12795177],\n",
       "       [ 2.04998983,  5.97778598],\n",
       "       [-0.1711348 , -2.06258746],\n",
       "       [ 0.67956979,  0.83705124],\n",
       "       [ 1.46860232,  1.22961093],\n",
       "       [ 0.35282131,  1.49875397],\n",
       "       [-2.51552505, -5.64629995],\n",
       "       [ 0.0843329 , -0.3543059 ],\n",
       "       [ 0.19199272,  1.48901291],\n",
       "       [-0.02566217, -0.74987887],\n",
       "       [ 1.00569227,  2.25287315],\n",
       "       [ 0.49514263,  1.18939673],\n",
       "       [ 0.0629872 ,  0.57349278],\n",
       "       [ 0.75093031,  2.99487004],\n",
       "       [-3.0236127 , -6.00766046],\n",
       "       [-0.53943081, -0.3478899 ],\n",
       "       [ 1.53817376,  1.99973464],\n",
       "       [-0.50886808, -1.81099656],\n",
       "       [ 1.58115602,  2.86410319],\n",
       "       [ 0.99305043,  2.54294059],\n",
       "       [-0.87753796, -1.15767204],\n",
       "       [-1.11518048, -1.87508012],\n",
       "       [ 0.4299908 ,  0.36324254],\n",
       "       [ 0.97253528,  3.53815717],\n",
       "       [ 0.32124996,  0.33137032],\n",
       "       [-0.74618649, -2.77366681],\n",
       "       [-0.88473953, -1.81495444],\n",
       "       [ 0.98783862,  2.30280401],\n",
       "       [-1.2033623 , -2.04402725],\n",
       "       [-1.51101746, -3.2818741 ],\n",
       "       [-2.76337717, -7.66760648],\n",
       "       [ 0.39158553,  0.87949228],\n",
       "       [ 0.91181024,  3.32968944],\n",
       "       [-0.84202629, -2.01226547],\n",
       "       [ 1.06586877,  0.95500019],\n",
       "       [ 0.44457363,  1.87828298],\n",
       "       [ 0.35936721,  0.40554974],\n",
       "       [-0.90649669, -0.93486441],\n",
       "       [-0.35790389, -0.52363012],\n",
       "       [-1.33461668, -3.03203218],\n",
       "       [ 0.02815138,  0.79654924],\n",
       "       [ 0.37785618,  0.51409383],\n",
       "       [-1.06505097, -2.88726779],\n",
       "       [ 2.32083881,  5.97698647],\n",
       "       [ 0.47605744,  0.83634485],\n",
       "       [-0.35490984, -1.03657119],\n",
       "       [ 0.57532883, -0.79997124],\n",
       "       [ 0.33399913,  2.32597923],\n",
       "       [ 0.6575612 , -0.22389518],\n",
       "       [ 1.3707365 ,  2.2348831 ],\n",
       "       [ 0.07099548, -0.29685467],\n",
       "       [ 0.6074983 ,  1.47089233],\n",
       "       [-0.34226126, -1.10666237],\n",
       "       [ 0.69226246,  1.21504303],\n",
       "       [-0.31112937, -0.75912097],\n",
       "       [-0.26888327, -1.89366817],\n",
       "       [ 0.42044896,  1.85189522],\n",
       "       [ 0.21115245,  2.00781492],\n",
       "       [-1.83106042, -2.91352836],\n",
       "       [ 0.7841796 ,  1.97640753],\n",
       "       [ 0.10259314,  1.24690575],\n",
       "       [-1.91100558, -3.66800923],\n",
       "       [ 0.13143756, -0.07833855],\n",
       "       [-0.1317045 , -1.64159158],\n",
       "       [-0.14547282, -1.34125678],\n",
       "       [-0.51172373, -1.40960773],\n",
       "       [ 0.69758045,  0.72563649],\n",
       "       [ 0.11677083,  0.88385162],\n",
       "       [-1.16586444, -2.24482237],\n",
       "       [-2.23176235, -2.63958101],\n",
       "       [ 0.37857234,  0.69112594],\n",
       "       [ 0.87475323,  3.400675  ],\n",
       "       [-0.86864365, -3.03568353],\n",
       "       [-1.03637857, -1.18469125],\n",
       "       [-0.53334959, -0.37039911],\n",
       "       [ 0.30414557, -0.5828419 ],\n",
       "       [-1.47656656, -2.13046298],\n",
       "       [-0.31332021, -1.7895623 ],\n",
       "       [ 1.12659538,  1.49627535],\n",
       "       [-1.19675798, -1.51633442],\n",
       "       [-0.75210154, -0.79770535],\n",
       "       [ 0.74577693,  1.95834451],\n",
       "       [ 1.56094354,  2.9330816 ],\n",
       "       [-0.72009966, -1.99780959],\n",
       "       [-1.32319163, -2.61218347],\n",
       "       [-2.56215914, -6.08410838],\n",
       "       [ 1.31256297,  3.13143269],\n",
       "       [ 0.51575983,  2.30284639],\n",
       "       [ 0.01374713, -0.11539344],\n",
       "       [-0.16863279,  0.39422355],\n",
       "       [ 0.12065651,  1.13236323],\n",
       "       [-0.83504984, -2.38632016],\n",
       "       [ 1.05185885,  1.98418223],\n",
       "       [-0.69144553, -1.56919875],\n",
       "       [-1.2567603 , -1.125898  ],\n",
       "       [ 0.09619333, -0.64335574],\n",
       "       [-0.99658689, -2.35038099],\n",
       "       [-1.21405259, -1.77693724]])"
      ]
     },
     "execution_count": 18,
     "metadata": {},
     "output_type": "execute_result"
    }
   ],
   "source": [
    "X"
   ]
  },
  {
   "cell_type": "code",
   "execution_count": 5,
   "metadata": {},
   "outputs": [
    {
     "data": {
      "text/plain": [
       "array([96, 57, 62, 56, 23, 63, 42, 86,  4, 25, 41, 47, 30, 83, 76, 80, 10,\n",
       "       82, 53, 52])"
      ]
     },
     "execution_count": 5,
     "metadata": {},
     "output_type": "execute_result"
    }
   ],
   "source": [
    "indices = np.random.choice(X.shape[0], 20, replace=False)\n",
    "indices"
   ]
  },
  {
   "cell_type": "code",
   "execution_count": 6,
   "metadata": {},
   "outputs": [
    {
     "data": {
      "text/plain": [
       "(20, 2)"
      ]
     },
     "execution_count": 6,
     "metadata": {},
     "output_type": "execute_result"
    }
   ],
   "source": [
    "selection = X[indices]\n",
    "selection.shape"
   ]
  },
  {
   "cell_type": "code",
   "execution_count": 15,
   "metadata": {},
   "outputs": [
    {
     "data": {
      "text/plain": [
       "<matplotlib.collections.PathCollection at 0x1c3fd101f28>"
      ]
     },
     "execution_count": 15,
     "metadata": {},
     "output_type": "execute_result"
    },
    {
     "data": {
      "image/png": "[encoded data removed]",
      "text/plain": [
       "<matplotlib.figure.Figure at 0x1c3fca9dc88>"
      ]
     },
     "metadata": {},
     "output_type": "display_data"
    }
   ],
   "source": [
    "plt.scatter(X[:, 0], X[:, 1], alpha=0.3)\n",
    "plt.scatter(selection[:, 0], selection[:, 1], s=200, edgecolors='none')"
   ]
  },
  {
   "cell_type": "code",
   "execution_count": 16,
   "metadata": {},
   "outputs": [
    {
     "data": {
      "text/plain": [
       "\u001b[1;31mSignature:\u001b[0m \u001b[0mplt\u001b[0m\u001b[1;33m.\u001b[0m\u001b[0mscatter\u001b[0m\u001b[1;33m(\u001b[0m\u001b[0mx\u001b[0m\u001b[1;33m,\u001b[0m \u001b[0my\u001b[0m\u001b[1;33m,\u001b[0m \u001b[0ms\u001b[0m\u001b[1;33m=\u001b[0m\u001b[1;32mNone\u001b[0m\u001b[1;33m,\u001b[0m \u001b[0mc\u001b[0m\u001b[1;33m=\u001b[0m\u001b[1;32mNone\u001b[0m\u001b[1;33m,\u001b[0m \u001b[0mmarker\u001b[0m\u001b[1;33m=\u001b[0m\u001b[1;32mNone\u001b[0m\u001b[1;33m,\u001b[0m \u001b[0mcmap\u001b[0m\u001b[1;33m=\u001b[0m\u001b[1;32mNone\u001b[0m\u001b[1;33m,\u001b[0m \u001b[0mnorm\u001b[0m\u001b[1;33m=\u001b[0m\u001b[1;32mNone\u001b[0m\u001b[1;33m,\u001b[0m \u001b[0mvmin\u001b[0m\u001b[1;33m=\u001b[0m\u001b[1;32mNone\u001b[0m\u001b[1;33m,\u001b[0m \u001b[0mvmax\u001b[0m\u001b[1;33m=\u001b[0m\u001b[1;32mNone\u001b[0m\u001b[1;33m,\u001b[0m \u001b[0malpha\u001b[0m\u001b[1;33m=\u001b[0m\u001b[1;32mNone\u001b[0m\u001b[1;33m,\u001b[0m \u001b[0mlinewidths\u001b[0m\u001b[1;33m=\u001b[0m\u001b[1;32mNone\u001b[0m\u001b[1;33m,\u001b[0m \u001b[0mverts\u001b[0m\u001b[1;33m=\u001b[0m\u001b[1;32mNone\u001b[0m\u001b[1;33m,\u001b[0m \u001b[0medgecolors\u001b[0m\u001b[1;33m=\u001b[0m\u001b[1;32mNone\u001b[0m\u001b[1;33m,\u001b[0m \u001b[0mhold\u001b[0m\u001b[1;33m=\u001b[0m\u001b[1;32mNone\u001b[0m\u001b[1;33m,\u001b[0m \u001b[0mdata\u001b[0m\u001b[1;33m=\u001b[0m\u001b[1;32mNone\u001b[0m\u001b[1;33m,\u001b[0m \u001b[1;33m**\u001b[0m\u001b[0mkwargs\u001b[0m\u001b[1;33m)\u001b[0m\u001b[1;33m\u001b[0m\u001b[0m\n",
       "\u001b[1;31mDocstring:\u001b[0m\n",
       "Make a scatter plot of `x` vs `y`.\n",
       "\n",
       "Marker size is scaled by `s` and marker color is mapped to `c`.\n",
       "\n",
       "Parameters\n",
       "----------\n",
       "x, y : array_like, shape (n, )\n",
       "    Input data\n",
       "\n",
       "s : scalar or array_like, shape (n, ), optional\n",
       "    size in points^2.  Default is `rcParams['lines.markersize'] ** 2`.\n",
       "\n",
       "c : color, sequence, or sequence of color, optional, default: 'b'\n",
       "    `c` can be a single color format string, or a sequence of color\n",
       "    specifications of length `N`, or a sequence of `N` numbers to be\n",
       "    mapped to colors using the `cmap` and `norm` specified via kwargs\n",
       "    (see below). Note that `c` should not be a single numeric RGB or\n",
       "    RGBA sequence because that is indistinguishable from an array of\n",
       "    values to be colormapped.  `c` can be a 2-D array in which the\n",
       "    rows are RGB or RGBA, however, including the case of a single\n",
       "    row to specify the same color for all points.\n",
       "\n",
       "marker : `~matplotlib.markers.MarkerStyle`, optional, default: 'o'\n",
       "    See `~matplotlib.markers` for more information on the different\n",
       "    styles of markers scatter supports. `marker` can be either\n",
       "    an instance of the class or the text shorthand for a particular\n",
       "    marker.\n",
       "\n",
       "cmap : `~matplotlib.colors.Colormap`, optional, default: None\n",
       "    A `~matplotlib.colors.Colormap` instance or registered name.\n",
       "    `cmap` is only used if `c` is an array of floats. If None,\n",
       "    defaults to rc `image.cmap`.\n",
       "\n",
       "norm : `~matplotlib.colors.Normalize`, optional, default: None\n",
       "    A `~matplotlib.colors.Normalize` instance is used to scale\n",
       "    luminance data to 0, 1. `norm` is only used if `c` is an array of\n",
       "    floats. If `None`, use the default :func:`normalize`.\n",
       "\n",
       "vmin, vmax : scalar, optional, default: None\n",
       "    `vmin` and `vmax` are used in conjunction with `norm` to normalize\n",
       "    luminance data.  If either are `None`, the min and max of the\n",
       "    color array is used.  Note if you pass a `norm` instance, your\n",
       "    settings for `vmin` and `vmax` will be ignored.\n",
       "\n",
       "alpha : scalar, optional, default: None\n",
       "    The alpha blending value, between 0 (transparent) and 1 (opaque)\n",
       "\n",
       "linewidths : scalar or array_like, optional, default: None\n",
       "    If None, defaults to (lines.linewidth,).\n",
       "\n",
       "verts : sequence of (x, y), optional\n",
       "    If `marker` is None, these vertices will be used to\n",
       "    construct the marker.  The center of the marker is located\n",
       "    at (0,0) in normalized units.  The overall marker is rescaled\n",
       "    by ``s``.\n",
       "\n",
       "edgecolors : color or sequence of color, optional, default: None\n",
       "    If None, defaults to 'face'\n",
       "\n",
       "    If 'face', the edge color will always be the same as\n",
       "    the face color.\n",
       "\n",
       "    If it is 'none', the patch boundary will not\n",
       "    be drawn.\n",
       "\n",
       "    For non-filled markers, the `edgecolors` kwarg\n",
       "    is ignored and forced to 'face' internally.\n",
       "\n",
       "Returns\n",
       "-------\n",
       "paths : `~matplotlib.collections.PathCollection`\n",
       "\n",
       "Other Parameters\n",
       "----------------\n",
       "**kwargs : `~matplotlib.collections.Collection` properties\n",
       "\n",
       "See Also\n",
       "--------\n",
       "plot : to plot scatter plots when markers are identical in size and\n",
       "    color\n",
       "\n",
       "Notes\n",
       "-----\n",
       "\n",
       "* The `plot` function will be faster for scatterplots where markers\n",
       "  don't vary in size or color.\n",
       "\n",
       "* Any or all of `x`, `y`, `s`, and `c` may be masked arrays, in which\n",
       "  case all masks will be combined and only unmasked points will be\n",
       "  plotted.\n",
       "\n",
       "  Fundamentally, scatter works with 1-D arrays; `x`, `y`, `s`, and `c`\n",
       "  may be input as 2-D arrays, but within scatter they will be\n",
       "  flattened. The exception is `c`, which will be flattened only if its\n",
       "  size matches the size of `x` and `y`.\n",
       "\n",
       ".. note::\n",
       "    In addition to the above described arguments, this function can take a\n",
       "    **data** keyword argument. If such a **data** argument is given, the\n",
       "    following arguments are replaced by **data[<arg>]**:\n",
       "\n",
       "    * All arguments with the following names: 'c', 'color', 'edgecolors', 'facecolor', 'facecolors', 'linewidths', 's', 'x', 'y'.\n",
       "\u001b[1;31mFile:\u001b[0m      c:\\programdata\\anaconda3\\lib\\site-packages\\matplotlib\\pyplot.py\n",
       "\u001b[1;31mType:\u001b[0m      function\n"
      ]
     },
     "metadata": {},
     "output_type": "display_data"
    }
   ],
   "source": [
    "plt.scatter?"
   ]
  },
  {
   "cell_type": "code",
   "execution_count": 17,
   "metadata": {},
   "outputs": [
    {
     "data": {
      "text/plain": [
       "array([ 0, 99, 99,  3, 99,  5,  6,  7, 99,  9])"
      ]
     },
     "execution_count": 17,
     "metadata": {},
     "output_type": "execute_result"
    }
   ],
   "source": [
    "x = np.arange(10)\n",
    "i = np.array([2, 1, 8, 4])\n",
    "x[i] = 99\n",
    "x"
   ]
  },
  {
   "cell_type": "code",
   "execution_count": 18,
   "metadata": {},
   "outputs": [
    {
     "data": {
      "text/plain": [
       "array([ 0, 89, 89,  3, 89,  5,  6,  7, 89,  9])"
      ]
     },
     "execution_count": 18,
     "metadata": {},
     "output_type": "execute_result"
    }
   ],
   "source": [
    "x[i] -= 10\n",
    "x"
   ]
  },
  {
   "cell_type": "code",
   "execution_count": 21,
   "metadata": {},
   "outputs": [
    {
     "data": {
      "text/plain": [
       "array([6., 0., 0., 0., 0., 0., 0., 0., 0., 0.])"
      ]
     },
     "execution_count": 21,
     "metadata": {},
     "output_type": "execute_result"
    }
   ],
   "source": [
    "x = np.zeros(10)\n",
    "x[[0, 0]] = [4, 6]\n",
    "x"
   ]
  },
  {
   "cell_type": "code",
   "execution_count": 22,
   "metadata": {},
   "outputs": [
    {
     "data": {
      "text/plain": [
       "array([6., 0., 1., 1., 1., 0., 0., 0., 0., 0.])"
      ]
     },
     "execution_count": 22,
     "metadata": {},
     "output_type": "execute_result"
    }
   ],
   "source": [
    "i = [2, 3, 3, 4, 4, 4]\n",
    "x[i] += 1\n",
    "x"
   ]
  },
  {
   "cell_type": "code",
   "execution_count": 23,
   "metadata": {},
   "outputs": [
    {
     "data": {
      "text/plain": [
       "array([0., 0., 1., 2., 3., 0., 0., 0., 0., 0.])"
      ]
     },
     "execution_count": 23,
     "metadata": {},
     "output_type": "execute_result"
    }
   ],
   "source": [
    "x = np.zeros(10)\n",
    "np.add.at(x, i, 1)\n",
    "x"
   ]
  },
  {
   "cell_type": "code",
   "execution_count": 27,
   "metadata": {},
   "outputs": [
    {
     "name": "stdout",
     "output_type": "stream",
     "text": [
      "[ 0.49671415 -0.1382643   0.64768854  1.52302986 -0.23415337 -0.23413696\n",
      "  1.57921282  0.76743473 -0.46947439  0.54256004 -0.46341769 -0.46572975\n",
      "  0.24196227 -1.91328024 -1.72491783 -0.56228753 -1.01283112  0.31424733\n",
      " -0.90802408 -1.4123037   1.46564877 -0.2257763   0.0675282  -1.42474819\n",
      " -0.54438272  0.11092259 -1.15099358  0.37569802 -0.60063869 -0.29169375\n",
      " -0.60170661  1.85227818 -0.01349722 -1.05771093  0.82254491 -1.22084365\n",
      "  0.2088636  -1.95967012 -1.32818605  0.19686124  0.73846658  0.17136828\n",
      " -0.11564828 -0.3011037  -1.47852199 -0.71984421 -0.46063877  1.05712223\n",
      "  0.34361829 -1.76304016  0.32408397 -0.38508228 -0.676922    0.61167629\n",
      "  1.03099952  0.93128012 -0.83921752 -0.30921238  0.33126343  0.97554513\n",
      " -0.47917424 -0.18565898 -1.10633497 -1.19620662  0.81252582  1.35624003\n",
      " -0.07201012  1.0035329   0.36163603 -0.64511975  0.36139561  1.53803657\n",
      " -0.03582604  1.56464366 -2.6197451   0.8219025   0.08704707 -0.29900735\n",
      "  0.09176078 -1.98756891 -0.21967189  0.35711257  1.47789404 -0.51827022\n",
      " -0.8084936  -0.50175704  0.91540212  0.32875111 -0.5297602   0.51326743\n",
      "  0.09707755  0.96864499 -0.70205309 -0.32766215 -0.39210815 -1.46351495\n",
      "  0.29612028  0.26105527  0.00511346 -0.23458713]\n",
      "[-5.         -4.47368421 -3.94736842 -3.42105263 -2.89473684 -2.36842105\n",
      " -1.84210526 -1.31578947 -0.78947368 -0.26315789  0.26315789  0.78947368\n",
      "  1.31578947  1.84210526  2.36842105  2.89473684  3.42105263  3.94736842\n",
      "  4.47368421  5.        ]\n",
      "[0. 0. 0. 0. 0. 0. 0. 0. 0. 0. 0. 0. 0. 0. 0. 0. 0. 0. 0. 0.]\n",
      "[11 10 11 13 10 10 13 11  9 11  9  9 10  6  7  9  8 11  8  7 13 10 10  7\n",
      "  9 10  8 11  9  9  9 14 10  8 12  8 10  6  7 10 11 10 10  9  7  9  9 12\n",
      " 11  7 11  9  9 11 12 12  8  9 11 12  9 10  8  8 12 13 10 12 11  9 11 13\n",
      " 10 13  5 12 10  9 10  6 10 11 13  9  8  9 12 11  9 11 10 12  9  9  9  7\n",
      " 11 10 10 10]\n",
      "[ 0.  0.  0.  0.  0.  1.  3.  7.  9. 23. 22. 17. 10.  7.  1.  0.  0.  0.\n",
      "  0.  0.]\n"
     ]
    }
   ],
   "source": [
    "np.random.seed(42)\n",
    "x = np.random.randn(100)\n",
    "print(x)\n",
    "\n",
    "bins = np.linspace(-5, 5, 20)\n",
    "counts = np.zeros_like(bins)\n",
    "print(bins)\n",
    "print(counts)\n",
    "\n",
    "i = np.searchsorted(bins, x)\n",
    "print(i)\n",
    "\n",
    "np.add.at(counts, i, 1)\n",
    "print(counts)"
   ]
  },
  {
   "cell_type": "code",
   "execution_count": 25,
   "metadata": {},
   "outputs": [
    {
     "data": {
      "text/plain": [
       "[<matplotlib.lines.Line2D at 0x1c3fd5d1c50>]"
      ]
     },
     "execution_count": 25,
     "metadata": {},
     "output_type": "execute_result"
    },
    {
     "data": {
      "image/png": "[encoded data removed]",
      "text/plain": [
       "<matplotlib.figure.Figure at 0x1c3fd1a18d0>"
      ]
     },
     "metadata": {},
     "output_type": "display_data"
    }
   ],
   "source": [
    "plt.plot(bins, counts, linestyle='steps')"
   ]
  },
  {
   "cell_type": "code",
   "execution_count": 26,
   "metadata": {},
   "outputs": [
    {
     "data": {
      "text/plain": [
       "(array([ 0.,  0.,  0.,  0.,  1.,  3.,  7.,  9., 23., 22., 17., 10.,  7.,\n",
       "         1.,  0.,  0.,  0.,  0.,  0.]),\n",
       " array([-5.        , -4.47368421, -3.94736842, -3.42105263, -2.89473684,\n",
       "        -2.36842105, -1.84210526, -1.31578947, -0.78947368, -0.26315789,\n",
       "         0.26315789,  0.78947368,  1.31578947,  1.84210526,  2.36842105,\n",
       "         2.89473684,  3.42105263,  3.94736842,  4.47368421,  5.        ]),\n",
       " <a list of 1 Patch objects>)"
      ]
     },
     "execution_count": 26,
     "metadata": {},
     "output_type": "execute_result"
    },
    {
     "data": {
      "image/png": "[encoded data removed]",
      "text/plain": [
       "<matplotlib.figure.Figure at 0x1c3fd77ce80>"
      ]
     },
     "metadata": {},
     "output_type": "display_data"
    }
   ],
   "source": [
    "plt.hist(x, bins, histtype='step')"
   ]
  },
  {
   "cell_type": "code",
   "execution_count": 28,
   "metadata": {},
   "outputs": [
    {
     "name": "stdout",
     "output_type": "stream",
     "text": [
      "Numpy routine:\n",
      "50.9 µs ± 3.55 µs per loop (mean ± std. dev. of 7 runs, 10000 loops each)\n",
      "Custom routine:\n",
      "13 µs ± 109 ns per loop (mean ± std. dev. of 7 runs, 100000 loops each)\n"
     ]
    }
   ],
   "source": [
    "print(\"Numpy routine:\")\n",
    "%timeit counts, edges = np.histogram(x, bins)\n",
    "print(\"Custom routine:\")\n",
    "%timeit np.add.at(counts, np.searchsorted(bins, x), 1)"
   ]
  },
  {
   "cell_type": "code",
   "execution_count": 29,
   "metadata": {},
   "outputs": [
    {
     "name": "stdout",
     "output_type": "stream",
     "text": [
      "Numpy routine:\n",
      "59.5 ms ± 164 µs per loop (mean ± std. dev. of 7 runs, 10 loops each)\n",
      "Custom routine:\n",
      "102 ms ± 3.75 ms per loop (mean ± std. dev. of 7 runs, 10 loops each)\n"
     ]
    }
   ],
   "source": [
    "x = np.random.randn(1000000)\n",
    "print(\"Numpy routine:\")\n",
    "%timeit counts, edges = np.histogram(x, bins)\n",
    "print(\"Custom routine:\")\n",
    "%timeit np.add.at(counts, np.searchsorted(bins, x), 1)"
   ]
  },
  {
   "cell_type": "code",
   "execution_count": null,
   "metadata": {},
   "outputs": [],
   "source": []
  }
 ],
 "metadata": {
  "kernelspec": {
   "display_name": "Python 3",
   "language": "python",
   "name": "python3"
  },
  "language_info": {
   "codemirror_mode": {
    "name": "ipython",
    "version": 3
   },
   "file_extension": ".py",
   "mimetype": "text/x-python",
   "name": "python",
   "nbconvert_exporter": "python",
   "pygments_lexer": "ipython3",
   "version": "3.6.4"
  }
 },
 "nbformat": 4,
 "nbformat_minor": 2
}
