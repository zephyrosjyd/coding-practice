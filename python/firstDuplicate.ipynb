{
 "cells": [
  {
   "cell_type": "markdown",
   "metadata": {},
   "source": [
    "#### Note: Write a solution with `O(n)` time complexity and `O(1)` additional space complexity, since this is what you would be asked to do during a real interview.\n",
    "\n",
    "### Given an array `a` that contains only numbers in the range from `1` to `a.length`, find the first duplicate number for which the second occurrence has the minimal index. In other words, if there are more than 1 duplicated numbers, return the number for which the second occurrence has a smaller index than the second occurrence of the other number does. If there are no such elements, return `-1`.\n",
    "\n",
    "##### Example\n",
    "\n",
    "+ For `a = [2, 3, 3, 1, 5, 2]`, the output should be\n",
    "`firstDuplicate(a) = 3`.\n",
    "\n",
    "There are `2` duplicates: numbers `2` and `3`. The second occurrence of `3` has a smaller index than than second occurrence of `2` does, so the answer is `3`.\n",
    "\n",
    "+ For `a = [2, 4, 3, 5, 1]`, the output should be\n",
    "`firstDuplicate(a) = -1`.\n",
    "\n",
    "##### Input/Output\n",
    "\n",
    "+ [execution time limit] 4 seconds (py3)\n",
    "\n",
    "+ [input] array.integer a\n",
    "\n",
    "+ Guaranteed constraints:\n",
    "\n",
    "$1 \\leq a.length \\leq 10^5$<br>\n",
    "$1 \\leq a[i] \\leq a.length$\n",
    "\n",
    "\n",
    "+ [output] integer\n",
    "\n",
    "The element in `a` that occurs in the array more than once and has the minimal index for its second occurrence. If there are no such elements, return `-1`."
   ]
  },
  {
   "cell_type": "code",
   "execution_count": 32,
   "metadata": {
    "collapsed": true
   },
   "outputs": [],
   "source": [
    "import time\n",
    "\n",
    "def timeit(f):\n",
    "\n",
    "    def timed(*args, **kw):\n",
    "\n",
    "        ts = time.time()\n",
    "        result = f(*args, **kw)\n",
    "        te = time.time()\n",
    "\n",
    "        print('func:%r \\nargs:[%r, %r] \\ntook: %2.4f sec' % (f.__name__, args, kw, te-ts))\n",
    "        return result\n",
    "\n",
    "    return timed"
   ]
  },
  {
   "cell_type": "code",
   "execution_count": 33,
   "metadata": {},
   "outputs": [],
   "source": [
    "@timeit\n",
    "def firstDuplicate(a):\n",
    "\n",
    "    for i in range(len(a)):\n",
    "        value = a[i] if a[i] > 0 else -a[i]\n",
    "        \n",
    "        if a[value - 1] < 0:\n",
    "            return value\n",
    "        a[value - 1] *= -1\n",
    "    \n",
    "    return -1"
   ]
  },
  {
   "cell_type": "code",
   "execution_count": 27,
   "metadata": {},
   "outputs": [
    {
     "name": "stdout",
     "output_type": "stream",
     "text": [
      "func:'firstDuplicate' args:[([2, -3, -3, 1, 5, 2],), {}] took: 0.0000 sec\n",
      "3\n"
     ]
    }
   ],
   "source": [
    "a = [2, 3, 3, 1, 5, 2]\n",
    "print(firstDuplicate(a))"
   ]
  },
  {
   "cell_type": "code",
   "execution_count": 28,
   "metadata": {},
   "outputs": [
    {
     "name": "stdout",
     "output_type": "stream",
     "text": [
      "func:'firstDuplicate' args:[([-2, -4, -3, -5, -1],), {}] took: 0.0000 sec\n",
      "-1\n"
     ]
    }
   ],
   "source": [
    "a = [2, 4, 3, 5, 1]\n",
    "print(firstDuplicate(a))"
   ]
  },
  {
   "cell_type": "code",
   "execution_count": 29,
   "metadata": {},
   "outputs": [
    {
     "name": "stdout",
     "output_type": "stream",
     "text": [
      "func:'firstDuplicate' args:[([-2, -3, -4, -1, -5, 2],), {}] took: 0.0000 sec\n",
      "2\n"
     ]
    }
   ],
   "source": [
    "a = [2, 3, 4, 1, 5, 2]\n",
    "print(firstDuplicate(a))"
   ]
  },
  {
   "cell_type": "code",
   "execution_count": 49,
   "metadata": {},
   "outputs": [
    {
     "name": "stdout",
     "output_type": "stream",
     "text": [
      "func:'firstDuplicate' \n",
      "args:[([27, 69, 65, 83, 95, 9, 39, 63, -23, 26, 17, 25, 40, 25, 37, 35, -87, 90, 4, 18, 34, 100, -93, 42, -94, -23, -27, 19, 77, 66, 75, 59, 71, 71, 12, 61, 63, 24, -65, -21, 18, 54, 14, 54, 89, 97, 94, 1, 3, 38, 84, 17, 66, 55, 71, 12, 10, 78, 95, 65, 91, 32, -33, 48, -52, 17, 16, 33, -27, 19, 10, 22, 94, 37, 46, 92, 77, 47, 83, 11, 99, 47, -56, 78, 23, 61, 56, 11, 51, 31, 37, 57, 61, 87, -33, 70, 55, 73, 14, 85],), {}] \n",
      "took: 0.0000 sec\n",
      "25\n"
     ]
    }
   ],
   "source": [
    "from random import randint\n",
    "upper = 100\n",
    "a = [randint(1, upper) for i in range(upper)]\n",
    "print(firstDuplicate(a))"
   ]
  },
  {
   "cell_type": "code",
   "execution_count": null,
   "metadata": {
    "collapsed": true
   },
   "outputs": [],
   "source": []
  }
 ],
 "metadata": {
  "kernelspec": {
   "display_name": "Python 3",
   "language": "python",
   "name": "python3"
  },
  "language_info": {
   "codemirror_mode": {
    "name": "ipython",
    "version": 3
   },
   "file_extension": ".py",
   "mimetype": "text/x-python",
   "name": "python",
   "nbconvert_exporter": "python",
   "pygments_lexer": "ipython3",
   "version": "3.5.4"
  }
 },
 "nbformat": 4,
 "nbformat_minor": 2
}
