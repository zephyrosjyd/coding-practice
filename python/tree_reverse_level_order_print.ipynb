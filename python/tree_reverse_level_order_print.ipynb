{
 "cells": [
  {
   "cell_type": "markdown",
   "metadata": {},
   "source": [
    "Tree Reverse Level Order Print"
   ]
  },
  {
   "cell_type": "code",
   "execution_count": 8,
   "metadata": {},
   "outputs": [],
   "source": [
    "class Node:\n",
    "    def __init__(self, data, left=None, right=None):\n",
    "        self.data = data\n",
    "        self.left = left\n",
    "        self.right = right\n",
    "\n",
    "def print_reverse_level_order(root):\n",
    "    if not root:\n",
    "        return\n",
    "    \n",
    "    q = [root]  # queue\n",
    "    s = [1]  # stack\n",
    "    depth = 1\n",
    "    idx = 0\n",
    "    lcount = 0\n",
    "    while idx < len(q):\n",
    "        n = q[idx]\n",
    "        idx += 1\n",
    "        depth -= 1\n",
    "        if n.left:\n",
    "            q.append(n.left)\n",
    "            lcount += 1\n",
    "        if n.right:\n",
    "            q.append(n.right)\n",
    "            lcount += 1\n",
    "        if depth == 0:\n",
    "            s.append(lcount)\n",
    "            depth, lcount = lcount, depth\n",
    "    \n",
    "    for c in s[::-1]:\n",
    "        idx -= c\n",
    "        for i in q[idx:idx+c]:\n",
    "            print(i.data, end=' ')\n",
    "        print()"
   ]
  },
  {
   "cell_type": "code",
   "execution_count": 9,
   "metadata": {},
   "outputs": [
    {
     "name": "stdout",
     "output_type": "stream",
     "text": [
      "\n",
      "4 5 6 \n",
      "2 3 \n",
      "1 \n"
     ]
    }
   ],
   "source": [
    "root = Node(1, Node(2, Node(4)), Node(3, Node(5), Node(6)))\n",
    "print_reverse_level_order(root)"
   ]
  },
  {
   "cell_type": "code",
   "execution_count": null,
   "metadata": {},
   "outputs": [],
   "source": []
  }
 ],
 "metadata": {
  "kernelspec": {
   "display_name": "Python [default]",
   "language": "python",
   "name": "python3"
  },
  "language_info": {
   "codemirror_mode": {
    "name": "ipython",
    "version": 3
   },
   "file_extension": ".py",
   "mimetype": "text/x-python",
   "name": "python",
   "nbconvert_exporter": "python",
   "pygments_lexer": "ipython3",
   "version": "3.6.4"
  }
 },
 "nbformat": 4,
 "nbformat_minor": 2
}
