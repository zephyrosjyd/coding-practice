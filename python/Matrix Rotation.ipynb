{
 "cells": [
  {
   "cell_type": "markdown",
   "metadata": {},
   "source": [
    "### 이미지를 표현하는 N x N 행렬이 있다. 이미지의 각 픽셀은 4바이트로 표현된다. 이때, 이미지를 90도 회전시키는 함수를 작성하라.\n",
    "#### 행렬을 추가로 사용하지 않고서도 할 수 있겠는가?"
   ]
  },
  {
   "cell_type": "markdown",
   "metadata": {},
   "source": [
    "#### Note: Try to solve this task in-place (with O(1) additional memory), since this is what you'll be asked to do during an interview.\n",
    "\n",
    "You are given an n x n 2D matrix that represents an image. Rotate the image by 90 degrees (clockwise).\n",
    "\n",
    "##### Example\n",
    "\n",
    "For\n",
    "```python\n",
    "a = [[1, 2, 3],\n",
    "     [4, 5, 6],\n",
    "     [7, 8, 9]]\n",
    "```  \n",
    "the output should be\n",
    "```python\n",
    "rotateImage(a) =\n",
    "    [[7, 4, 1],\n",
    "     [8, 5, 2],\n",
    "     [9, 6, 3]]\n",
    "```\n",
    "\n",
    "##### Input/Output\n",
    "\n",
    "+ __[execution time limit] 4 seconds (py3)__\n",
    "\n",
    "+ __[input] array.array.integer a__\n",
    "\n",
    "  Guaranteed constraints:\n",
    "   - 1 ≤ a.length ≤ 100,<br>\n",
    "   - a[i].length = a.length,<br>\n",
    "   - $1 ≤ a[i][j] ≤ 10^4$\n",
    "\n",
    "\n",
    "+ __[output] array.array.integer__\n",
    "\n"
   ]
  },
  {
   "cell_type": "code",
   "execution_count": 5,
   "metadata": {},
   "outputs": [],
   "source": [
    "def transpose(m):\n",
    "    for r in range(len(m)):\n",
    "        for c in range(r, len(m[0])):\n",
    "            m[r][c], m[c][r] = m[c][r], m[r][c]\n",
    "            \n",
    "def reverse_rows(m):\n",
    "    for r in range(len(m)):\n",
    "        for i in range(len(m[0])//2):\n",
    "            m[r][i], m[r][(i+1)*(-1)] = m[r][(i+1)*(-1)], m[r][i]\n",
    "            \n",
    "def reverse_columns(m):\n",
    "    for c in range(len(m[0])):\n",
    "        for i in range(len(m)//2):\n",
    "            m[i][c], m[(i+1)*(-1)][c] = m[(i+1)*(-1)][c], m[i][c]\n",
    "\n",
    "def display(m):\n",
    "    for r in m:\n",
    "        print(r)\n",
    "        \n",
    "def rotateImage_clockwise(a):\n",
    "    transpose(a)\n",
    "    reverse_rows(a)\n",
    "    \n",
    "def rotateImage_counterclockwise(b):\n",
    "    transpose(b)\n",
    "    reverse_columns(b)\n",
    "    \n",
    "def rotateImage(sqrmatrix):\n",
    "    rotateImage_clockwise(sqrmatrix)\n",
    "    display(sqrmatrix)"
   ]
  },
  {
   "cell_type": "code",
   "execution_count": 17,
   "metadata": {},
   "outputs": [
    {
     "name": "stdout",
     "output_type": "stream",
     "text": [
      "[7, 4, 1]\n",
      "[8, 5, 2]\n",
      "[9, 6, 3]\n"
     ]
    }
   ],
   "source": [
    "a = [[1, 2, 3],\n",
    "     [4, 5, 6],\n",
    "     [7, 8, 9]]\n",
    "rotateImage(a)"
   ]
  },
  {
   "cell_type": "code",
   "execution_count": 18,
   "metadata": {},
   "outputs": [
    {
     "name": "stdout",
     "output_type": "stream",
     "text": [
      "[13, 9, 5, 1]\n",
      "[14, 10, 6, 2]\n",
      "[15, 11, 7, 3]\n",
      "[16, 12, 8, 4]\n"
     ]
    }
   ],
   "source": [
    "a = [[1, 2, 3, 4],\n",
    "     [5, 6, 7, 8],\n",
    "     [9, 10, 11, 12],\n",
    "     [13, 14, 15, 16]]\n",
    "rotateImage(a)"
   ]
  },
  {
   "cell_type": "code",
   "execution_count": 19,
   "metadata": {},
   "outputs": [
    {
     "name": "stdout",
     "output_type": "stream",
     "text": [
      "[1, 2, 3, 4, 5]\n",
      "[6, 7, 8, 9, 10]\n",
      "[11, 12, 13, 14, 15]\n",
      "[16, 17, 18, 19, 20]\n",
      "[21, 22, 23, 24, 25]\n",
      "----\n",
      "[21, 16, 11, 6, 1]\n",
      "[22, 17, 12, 7, 2]\n",
      "[23, 18, 13, 8, 3]\n",
      "[24, 19, 14, 9, 4]\n",
      "[25, 20, 15, 10, 5]\n"
     ]
    }
   ],
   "source": [
    "N = 5\n",
    "a = [[i for i in range(N*(x-1) + 1, N*x + 1)] for x in range(1, N+1)]\n",
    "display(a)\n",
    "print(\"----\")\n",
    "rotateImage(a)"
   ]
  },
  {
   "cell_type": "markdown",
   "metadata": {},
   "source": [
    "#### Time complexity: $O(N^2)$\n",
    "#### Space complexity: O(1)"
   ]
  },
  {
   "cell_type": "code",
   "execution_count": 7,
   "metadata": {},
   "outputs": [
    {
     "name": "stdout",
     "output_type": "stream",
     "text": [
      "[1, 2, 3, 4, 5]\n",
      "[6, 7, 8, 9, 10]\n",
      "[11, 12, 13, 14, 15]\n",
      "[16, 17, 18, 19, 20]\n",
      "[21, 22, 23, 24, 25]\n",
      "----\n",
      "[5, 10, 15, 20, 25]\n",
      "[4, 9, 14, 19, 24]\n",
      "[3, 8, 13, 18, 23]\n",
      "[2, 7, 12, 17, 22]\n",
      "[1, 6, 11, 16, 21]\n"
     ]
    }
   ],
   "source": [
    "def rotateImage(sqrmatrix):\n",
    "    rotateImage_counterclockwise(sqrmatrix)\n",
    "    display(sqrmatrix)\n",
    "    \n",
    "N = 5\n",
    "a = [[i for i in range(N*(x-1) + 1, N*x + 1)] for x in range(1, N+1)]\n",
    "display(a)\n",
    "print(\"----\")\n",
    "rotateImage(a)"
   ]
  },
  {
   "cell_type": "code",
   "execution_count": null,
   "metadata": {},
   "outputs": [],
   "source": []
  }
 ],
 "metadata": {
  "kernelspec": {
   "display_name": "Python [default]",
   "language": "python",
   "name": "python3"
  },
  "language_info": {
   "codemirror_mode": {
    "name": "ipython",
    "version": 3
   },
   "file_extension": ".py",
   "mimetype": "text/x-python",
   "name": "python",
   "nbconvert_exporter": "python",
   "pygments_lexer": "ipython3",
   "version": "3.6.4"
  }
 },
 "nbformat": 4,
 "nbformat_minor": 2
}
