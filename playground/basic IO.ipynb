{
 "cells": [
  {
   "cell_type": "code",
   "execution_count": 1,
   "metadata": {},
   "outputs": [],
   "source": [
    "with open('shoppinglist.txt', 'w') as fileobj:\n",
    "    fileobj.write('tomato\\npasta\\ngarlic')"
   ]
  },
  {
   "cell_type": "code",
   "execution_count": 2,
   "metadata": {},
   "outputs": [
    {
     "name": "stdout",
     "output_type": "stream",
     "text": [
      "['tomato\\n', 'pasta\\n', 'garlic']\n"
     ]
    }
   ],
   "source": [
    "with open('shoppinglist.txt', 'r') as fileobj:\n",
    "    lines = fileobj.readlines()\n",
    "    \n",
    "print(lines)"
   ]
  },
  {
   "cell_type": "code",
   "execution_count": 3,
   "metadata": {},
   "outputs": [
    {
     "name": "stdout",
     "output_type": "stream",
     "text": [
      "['tomato', 'pasta', 'garlic']\n"
     ]
    }
   ],
   "source": [
    "with open('shoppinglist.txt', 'r') as fo:\n",
    "    content = fo.read()\n",
    "    lines = content.split('\\n')\n",
    "    \n",
    "print(lines)"
   ]
  },
  {
   "cell_type": "code",
   "execution_count": 4,
   "metadata": {},
   "outputs": [
    {
     "name": "stdout",
     "output_type": "stream",
     "text": [
      "['tomato', 'pasta', 'garlic']\n"
     ]
    }
   ],
   "source": [
    "with open('shoppinglist.txt', 'r') as fo:\n",
    "    lines = []\n",
    "    for line in fo:\n",
    "        lines.append(line.strip())\n",
    "        \n",
    "print(lines)"
   ]
  },
  {
   "cell_type": "code",
   "execution_count": 6,
   "metadata": {},
   "outputs": [
    {
     "name": "stdout",
     "output_type": "stream",
     "text": [
      "We are at 0.\n"
     ]
    }
   ],
   "source": [
    "fp = open('shoppinglist.txt', 'r')\n",
    "pos = fp.tell()\n",
    "print('We are at %u.' % pos)"
   ]
  },
  {
   "cell_type": "code",
   "execution_count": 7,
   "metadata": {},
   "outputs": [
    {
     "name": "stdout",
     "output_type": "stream",
     "text": [
      "This file was 21 characters long.\n"
     ]
    }
   ],
   "source": [
    "content = fp.read()\n",
    "end = fp.tell()\n",
    "print('This file was %u characters long.' % end)\n",
    "fp.close()"
   ]
  },
  {
   "cell_type": "code",
   "execution_count": 8,
   "metadata": {},
   "outputs": [
    {
     "name": "stdout",
     "output_type": "stream",
     "text": [
      "We are at character #7.\n"
     ]
    }
   ],
   "source": [
    "fp = open('shoppinglist.txt', 'r')\n",
    "fp.seek(7)\n",
    "pos = fp.tell()\n",
    "print('We are at character #%u.' % pos)"
   ]
  },
  {
   "cell_type": "code",
   "execution_count": 9,
   "metadata": {},
   "outputs": [
    {
     "name": "stdout",
     "output_type": "stream",
     "text": [
      "\n",
      "pas\n",
      "We are at 11.\n"
     ]
    }
   ],
   "source": [
    "next4 = fp.read(4)\n",
    "print(next4)\n",
    "pos = fp.tell()\n",
    "print('We are at %u.' % pos)\n",
    "fp.close()"
   ]
  },
  {
   "cell_type": "code",
   "execution_count": 10,
   "metadata": {},
   "outputs": [
    {
     "name": "stdout",
     "output_type": "stream",
     "text": [
      "<class 'str'>\n"
     ]
    }
   ],
   "source": [
    "with open('shoppinglist.txt', 'r') as fileobj:\n",
    "    print(type(fileobj.read())) # <class 'str'>"
   ]
  },
  {
   "cell_type": "code",
   "execution_count": 11,
   "metadata": {},
   "outputs": [
    {
     "name": "stdout",
     "output_type": "stream",
     "text": [
      "<class 'bytes'>\n"
     ]
    }
   ],
   "source": [
    "with open('shoppinglist.txt', 'rb') as fileobj:\n",
    "    print(type(fileobj.read())) # <class 'bytes'>"
   ]
  },
  {
   "cell_type": "code",
   "execution_count": 14,
   "metadata": {},
   "outputs": [
    {
     "name": "stdout",
     "output_type": "stream",
     "text": [
      "That's not a number!\n"
     ]
    }
   ],
   "source": [
    "def input_number(msg, err_msg=None):\n",
    "    while True:\n",
    "        try:\n",
    "            return float(input(msg))\n",
    "        except ValueError:\n",
    "            if err_msg is not None:\n",
    "                print(err_msg)\n",
    "                \n",
    "user_num = input_number(\"input a number:\", \"That's not a number!\")"
   ]
  },
  {
   "cell_type": "code",
   "execution_count": 15,
   "metadata": {},
   "outputs": [
    {
     "name": "stdout",
     "output_type": "stream",
     "text": [
      "Hello, World!\n"
     ]
    }
   ],
   "source": [
    "print(\"Hello, \", end='')\n",
    "print(\"World!\")"
   ]
  },
  {
   "cell_type": "code",
   "execution_count": 16,
   "metadata": {},
   "outputs": [
    {
     "name": "stdout",
     "output_type": "stream",
     "text": [
      "Hello, World!"
     ]
    }
   ],
   "source": [
    "import sys\n",
    "sys.stdout.write(\"Hello, \")\n",
    "sys.stdout.write(\"World!\")"
   ]
  },
  {
   "cell_type": "code",
   "execution_count": 18,
   "metadata": {},
   "outputs": [
    {
     "name": "stdout",
     "output_type": "stream",
     "text": [
      "Not Found\n"
     ]
    }
   ],
   "source": [
    "try:\n",
    "    with open('fname', 'r') as fout:\n",
    "        pass\n",
    "except FileExistsError:\n",
    "    print('err')\n",
    "except FileNotFoundError:\n",
    "    print(\"Not Found\")"
   ]
  },
  {
   "cell_type": "code",
   "execution_count": 19,
   "metadata": {},
   "outputs": [
    {
     "name": "stdout",
     "output_type": "stream",
     "text": [
      "tomato\n",
      "\n",
      "pasta\n",
      "\n",
      "garlic\n"
     ]
    }
   ],
   "source": [
    "with open('shoppinglist.txt', 'r') as fp:\n",
    "    for line in fp:\n",
    "        print(line)"
   ]
  },
  {
   "cell_type": "code",
   "execution_count": 20,
   "metadata": {},
   "outputs": [
    {
     "name": "stdout",
     "output_type": "stream",
     "text": [
      "tomato\n",
      "\n",
      "pasta\n",
      "\n",
      "garlic\n"
     ]
    }
   ],
   "source": [
    "with open('shoppinglist.txt', 'r') as fp:\n",
    "    while True:\n",
    "        cur_line = fp.readline()\n",
    "        if cur_line == '':\n",
    "            break\n",
    "        print(cur_line)"
   ]
  },
  {
   "cell_type": "code",
   "execution_count": 23,
   "metadata": {},
   "outputs": [
    {
     "name": "stdout",
     "output_type": "stream",
     "text": [
      "Line 0: tomato\n",
      "Line 1: pasta\n",
      "Line 2: garlic\n"
     ]
    }
   ],
   "source": [
    "with open('shoppinglist.txt', 'r') as fp:\n",
    "    lines = fp.readlines()\n",
    "    for i in range(len(lines)):\n",
    "        print(\"Line \" + str(i) + \": \" + lines[i].strip())"
   ]
  },
  {
   "cell_type": "code",
   "execution_count": null,
   "metadata": {},
   "outputs": [],
   "source": []
  }
 ],
 "metadata": {
  "kernelspec": {
   "display_name": "Python 3",
   "language": "python",
   "name": "python3"
  },
  "language_info": {
   "codemirror_mode": {
    "name": "ipython",
    "version": 3
   },
   "file_extension": ".py",
   "mimetype": "text/x-python",
   "name": "python",
   "nbconvert_exporter": "python",
   "pygments_lexer": "ipython3",
   "version": "3.6.4"
  }
 },
 "nbformat": 4,
 "nbformat_minor": 2
}
