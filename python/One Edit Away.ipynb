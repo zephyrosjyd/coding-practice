{
 "cells": [
  {
   "cell_type": "markdown",
   "metadata": {},
   "source": [
    "### 문자열을 편집하는 방법에는 세 가지 종류가 있다. 문자 삽입, 문자 삭제, 문자 교체.\n",
    "### 문자열 두 개가 주어졌을 때, 문자열을 같게 만들기 위한 편집 횟수가 1회 이내인지 확인하는 함수를 작성하라.\n",
    "\n",
    "##### 예제\n",
    "```\n",
    "pale, ple --> true\n",
    "pales, pale --> true\n",
    "pale, bale --> true\n",
    "pale, bake --> false\n",
    "```"
   ]
  },
  {
   "cell_type": "code",
   "execution_count": 1,
   "metadata": {
    "collapsed": true
   },
   "outputs": [],
   "source": [
    "import time\n",
    "\n",
    "def timeit(f):\n",
    "\n",
    "    def timed(*args, **kw):\n",
    "\n",
    "        ts = time.time()\n",
    "        result = f(*args, **kw)\n",
    "        te = time.time()\n",
    "\n",
    "        print('func:%r \\nargs:[%r, %r] \\ntook: %2.6f sec' % (f.__name__, args, kw, te-ts))\n",
    "        return result\n",
    "\n",
    "    return timed"
   ]
  },
  {
   "cell_type": "code",
   "execution_count": 2,
   "metadata": {
    "collapsed": true
   },
   "outputs": [],
   "source": [
    "def isOneUpdate(s1, s2):\n",
    "    \n",
    "    forward, backward = -1, -1\n",
    "    for i in range(len(s1)):\n",
    "        if s1[i] != s2[i]:\n",
    "            forward = i\n",
    "            break\n",
    "\n",
    "    for i in range(len(s1)-1, -1, -1):\n",
    "        if s1[i] != s2[i]:\n",
    "            backward = i\n",
    "            break\n",
    "\n",
    "    #print(\"isOneUpdate\")\n",
    "    #print(\"forward=\" + str(forward) + \", backward=\" + str(backward))\n",
    "    return forward >= 0 and forward == backward\n",
    "\n",
    "def isOneInsertDelete(s1, s2):\n",
    "    \n",
    "    forward, backward = -1, -1\n",
    "    lendiff = len(s1) - len(s2)\n",
    "    bigstr = s1 if lendiff > 0 else s2\n",
    "    smallstr = s2 if lendiff > 0 else s1\n",
    "    for i in range(len(bigstr)):\n",
    "        if i == len(smallstr) or bigstr[i] != smallstr[i]:\n",
    "            forward = i\n",
    "            break\n",
    "\n",
    "    for i in range(len(bigstr)-1, 0, -1):\n",
    "        if bigstr[i] != smallstr[i-1]:\n",
    "            backward = i - 1\n",
    "            break\n",
    "            \n",
    "    #print(\"isOneInsertDelete\")\n",
    "    #print(\"forward=\" + str(forward) + \", backward=\" + str(backward))\n",
    "    return forward - backward > 0\n",
    "\n",
    "@timeit\n",
    "def isOneEditAway(s1, s2):\n",
    "    \n",
    "    if s1 == s2:\n",
    "        return True\n",
    "    \n",
    "    if len(s1) == len(s2):     \n",
    "        return isOneUpdate(s1, s2)\n",
    "    \n",
    "    elif abs(len(s1) - len(s2)) == 1:\n",
    "        return isOneInsertDelete(s1, s2)\n",
    "        \n",
    "    return False\n",
    "            "
   ]
  },
  {
   "cell_type": "code",
   "execution_count": 3,
   "metadata": {},
   "outputs": [
    {
     "data": {
      "text/plain": [
       "False"
      ]
     },
     "execution_count": 3,
     "metadata": {},
     "output_type": "execute_result"
    }
   ],
   "source": [
    "s1 = 'abc'\n",
    "s2 = ''.join('abc')\n",
    "s1 is s2"
   ]
  },
  {
   "cell_type": "code",
   "execution_count": 4,
   "metadata": {},
   "outputs": [
    {
     "name": "stdout",
     "output_type": "stream",
     "text": [
      "func:'isOneEditAway' \n",
      "args:[('pale', 'ple'), {}] \n",
      "took: 0.000007 sec\n"
     ]
    },
    {
     "data": {
      "text/plain": [
       "True"
      ]
     },
     "execution_count": 4,
     "metadata": {},
     "output_type": "execute_result"
    }
   ],
   "source": [
    "isOneEditAway('pale', 'ple')"
   ]
  },
  {
   "cell_type": "code",
   "execution_count": 5,
   "metadata": {},
   "outputs": [
    {
     "name": "stdout",
     "output_type": "stream",
     "text": [
      "func:'isOneEditAway' \n",
      "args:[('pales', 'pale'), {}] \n",
      "took: 0.000008 sec\n"
     ]
    },
    {
     "data": {
      "text/plain": [
       "True"
      ]
     },
     "execution_count": 5,
     "metadata": {},
     "output_type": "execute_result"
    }
   ],
   "source": [
    "isOneEditAway('pales', 'pale')"
   ]
  },
  {
   "cell_type": "code",
   "execution_count": 6,
   "metadata": {},
   "outputs": [
    {
     "name": "stdout",
     "output_type": "stream",
     "text": [
      "func:'isOneEditAway' \n",
      "args:[('pale', 'bale'), {}] \n",
      "took: 0.000006 sec\n"
     ]
    },
    {
     "data": {
      "text/plain": [
       "True"
      ]
     },
     "execution_count": 6,
     "metadata": {},
     "output_type": "execute_result"
    }
   ],
   "source": [
    "isOneEditAway('pale', 'bale')"
   ]
  },
  {
   "cell_type": "code",
   "execution_count": 37,
   "metadata": {},
   "outputs": [
    {
     "data": {
      "text/plain": [
       "[3, 2, 1, 0]"
      ]
     },
     "execution_count": 37,
     "metadata": {},
     "output_type": "execute_result"
    }
   ],
   "source": [
    "[i for i in range(3, -1, -1)]"
   ]
  },
  {
   "cell_type": "code",
   "execution_count": 7,
   "metadata": {},
   "outputs": [
    {
     "name": "stdout",
     "output_type": "stream",
     "text": [
      "func:'isOneEditAway' \n",
      "args:[('pale', 'bake'), {}] \n",
      "took: 0.000008 sec\n"
     ]
    },
    {
     "data": {
      "text/plain": [
       "False"
      ]
     },
     "execution_count": 7,
     "metadata": {},
     "output_type": "execute_result"
    }
   ],
   "source": [
    "isOneEditAway('pale', 'bake')"
   ]
  },
  {
   "cell_type": "code",
   "execution_count": 8,
   "metadata": {},
   "outputs": [
    {
     "name": "stdout",
     "output_type": "stream",
     "text": [
      "func:'isOneEditAway' \n",
      "args:[('solutiona', 'solution '), {}] \n",
      "took: 0.000010 sec\n"
     ]
    },
    {
     "data": {
      "text/plain": [
       "True"
      ]
     },
     "execution_count": 8,
     "metadata": {},
     "output_type": "execute_result"
    }
   ],
   "source": [
    "isOneEditAway('solutiona', 'solution ')"
   ]
  },
  {
   "cell_type": "markdown",
   "metadata": {},
   "source": [
    "##### Time complexity: O(2n) --> O(n),  Auxiliary Space: O(1)\n",
    "\n",
    "----\n",
    "\n",
    "#### One-Loop Approach"
   ]
  },
  {
   "cell_type": "code",
   "execution_count": 11,
   "metadata": {
    "collapsed": true
   },
   "outputs": [],
   "source": [
    "@timeit\n",
    "def isOneEditAway2(s1, s2):\n",
    "    \n",
    "    if s1 == s2:\n",
    "        return True\n",
    "    \n",
    "    len1, len2 = len(s1), len(s2)\n",
    "    if abs(len1 - len2) > 1:\n",
    "        return False\n",
    "    \n",
    "    count = 0\n",
    "    i, j = 0, 0\n",
    "    while i < len1 and j < len2:\n",
    "        \n",
    "        if s1[i] != s2[j]:\n",
    "            if count > 1:\n",
    "                return False\n",
    "            \n",
    "            if len1 > len2:\n",
    "                i += 1\n",
    "            elif len1 < len2:\n",
    "                j += 1\n",
    "            else:\n",
    "                i, j = (i+1), (j+1)\n",
    "                \n",
    "            count += 1\n",
    "            \n",
    "        else:\n",
    "            i, j = (i+1), (j+1)\n",
    "            \n",
    "    if i < len1 or j < len2:\n",
    "        count += 1\n",
    "            \n",
    "    return count == 1    "
   ]
  },
  {
   "cell_type": "code",
   "execution_count": 12,
   "metadata": {},
   "outputs": [
    {
     "name": "stdout",
     "output_type": "stream",
     "text": [
      "func:'isOneEditAway2' \n",
      "args:[('pale', 'ple'), {}] \n",
      "took: 0.000007 sec\n",
      "True\n",
      "func:'isOneEditAway2' \n",
      "args:[('pales', 'pale'), {}] \n",
      "took: 0.000007 sec\n",
      "True\n",
      "func:'isOneEditAway2' \n",
      "args:[('pale', 'bale'), {}] \n",
      "took: 0.000005 sec\n",
      "True\n",
      "func:'isOneEditAway2' \n",
      "args:[('pale', 'bake'), {}] \n",
      "took: 0.000005 sec\n",
      "False\n"
     ]
    }
   ],
   "source": [
    "print(isOneEditAway2('pale', 'ple'))\n",
    "print(isOneEditAway2('pales', 'pale'))\n",
    "print(isOneEditAway2('pale', 'bale'))\n",
    "print(isOneEditAway2('pale', 'bake'))"
   ]
  },
  {
   "cell_type": "code",
   "execution_count": 17,
   "metadata": {},
   "outputs": [
    {
     "name": "stdout",
     "output_type": "stream",
     "text": [
      "func:'isOneEditAway' \n",
      "args:[('olution ', 'solution '), {}] \n",
      "took: 0.000010 sec\n"
     ]
    },
    {
     "data": {
      "text/plain": [
       "True"
      ]
     },
     "execution_count": 17,
     "metadata": {},
     "output_type": "execute_result"
    }
   ],
   "source": [
    "isOneEditAway('olution ', 'solution ')"
   ]
  },
  {
   "cell_type": "markdown",
   "metadata": {
    "collapsed": true
   },
   "source": [
    "##### Time complexity: O(n),  Auxiliary Space: O(1)"
   ]
  }
 ],
 "metadata": {
  "kernelspec": {
   "display_name": "Python 3",
   "language": "python",
   "name": "python3"
  },
  "language_info": {
   "codemirror_mode": {
    "name": "ipython",
    "version": 3
   },
   "file_extension": ".py",
   "mimetype": "text/x-python",
   "name": "python",
   "nbconvert_exporter": "python",
   "pygments_lexer": "ipython3",
   "version": "3.5.4"
  }
 },
 "nbformat": 4,
 "nbformat_minor": 2
}
