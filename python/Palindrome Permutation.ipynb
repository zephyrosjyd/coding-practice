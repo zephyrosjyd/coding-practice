{
 "cells": [
  {
   "cell_type": "markdown",
   "metadata": {},
   "source": [
    "### 주어진 문자열이 회문(palindrome)의 순열인지 아닌지 확인하는 함수를 작성하라.\n",
    "#### 회문(palindrome)이란 앞으로 읽으나 뒤로 읽으나 같은 단어 혹은 구절을 의미하며, 순열이란 문자열을 재배치하는 것을 뜻한다.\n",
    "#### 회문이 꼭 사전에 등장하는 단어로 제한될 필요는 없다.\n",
    "\n",
    "##### 예제\n",
    "```\n",
    "input: tact coa\n",
    "output: True (순열: \"taco cat\", \"atco cta\" 등등)\n",
    "```"
   ]
  },
  {
   "cell_type": "code",
   "execution_count": 8,
   "metadata": {},
   "outputs": [],
   "source": [
    "# assume: input = a to z, [space]\n",
    "def is_palindrom_permutation(string):\n",
    "    alpha = [0] * (ord('z') - ord('a') + 1)\n",
    "    \n",
    "    for ch in string:\n",
    "        idx = ord(ch)-ord('a')\n",
    "        if 0 <= idx < len(alpha):\n",
    "            if alpha[idx]:\n",
    "                alpha[idx] -= 1\n",
    "            else:\n",
    "                alpha[idx] += 1\n",
    "            \n",
    "    total = sum(alpha)\n",
    "    return 0 <= total < 2"
   ]
  },
  {
   "cell_type": "code",
   "execution_count": 9,
   "metadata": {},
   "outputs": [
    {
     "data": {
      "text/plain": [
       "True"
      ]
     },
     "execution_count": 9,
     "metadata": {},
     "output_type": "execute_result"
    }
   ],
   "source": [
    "is_palindrom_permutation('tact coa')"
   ]
  },
  {
   "cell_type": "code",
   "execution_count": 10,
   "metadata": {},
   "outputs": [
    {
     "data": {
      "text/plain": [
       "True"
      ]
     },
     "execution_count": 10,
     "metadata": {},
     "output_type": "execute_result"
    }
   ],
   "source": [
    "is_palindrom_permutation('taco cat')"
   ]
  },
  {
   "cell_type": "code",
   "execution_count": 11,
   "metadata": {},
   "outputs": [
    {
     "data": {
      "text/plain": [
       "True"
      ]
     },
     "execution_count": 11,
     "metadata": {},
     "output_type": "execute_result"
    }
   ],
   "source": [
    "is_palindrom_permutation('sdbdbk ks abc abc')"
   ]
  },
  {
   "cell_type": "code",
   "execution_count": 12,
   "metadata": {},
   "outputs": [
    {
     "data": {
      "text/plain": [
       "False"
      ]
     },
     "execution_count": 12,
     "metadata": {},
     "output_type": "execute_result"
    }
   ],
   "source": [
    "is_palindrom_permutation('sdbdbk abc abc')"
   ]
  },
  {
   "cell_type": "markdown",
   "metadata": {},
   "source": [
    "#### Time complexity: O(n),  Auxiliary Space: O(1)\n",
    "----"
   ]
  },
  {
   "cell_type": "code",
   "execution_count": 13,
   "metadata": {},
   "outputs": [],
   "source": [
    "def is_palindrom_permutation2(string):\n",
    "    alpha = [0] * (ord('z') - ord('a') + 1)\n",
    "    count = 0\n",
    "    \n",
    "    for ch in string:\n",
    "        if ch == ' ': continue\n",
    "            \n",
    "        idx = ord(ch) - ord('a')\n",
    "        alpha[idx] += 1\n",
    "        \n",
    "        if alpha[idx] % 2 == 0:\n",
    "            count -= 1\n",
    "        else:\n",
    "            count += 1\n",
    "            \n",
    "    return count <= 1"
   ]
  },
  {
   "cell_type": "code",
   "execution_count": 18,
   "metadata": {},
   "outputs": [
    {
     "data": {
      "text/plain": [
       "False"
      ]
     },
     "execution_count": 18,
     "metadata": {},
     "output_type": "execute_result"
    }
   ],
   "source": [
    "is_palindrom_permutation2('sdbdbk abc abc')"
   ]
  },
  {
   "cell_type": "code",
   "execution_count": 17,
   "metadata": {},
   "outputs": [
    {
     "data": {
      "text/plain": [
       "True"
      ]
     },
     "execution_count": 17,
     "metadata": {},
     "output_type": "execute_result"
    }
   ],
   "source": [
    "is_palindrom_permutation2('sdbdbk ks abc abc')"
   ]
  },
  {
   "cell_type": "code",
   "execution_count": 16,
   "metadata": {},
   "outputs": [
    {
     "data": {
      "text/plain": [
       "True"
      ]
     },
     "execution_count": 16,
     "metadata": {},
     "output_type": "execute_result"
    }
   ],
   "source": [
    "is_palindrom_permutation2('tact coa')"
   ]
  },
  {
   "cell_type": "code",
   "execution_count": null,
   "metadata": {},
   "outputs": [],
   "source": []
  }
 ],
 "metadata": {
  "kernelspec": {
   "display_name": "Python 3",
   "language": "python",
   "name": "python3"
  },
  "language_info": {
   "codemirror_mode": {
    "name": "ipython",
    "version": 3
   },
   "file_extension": ".py",
   "mimetype": "text/x-python",
   "name": "python",
   "nbconvert_exporter": "python",
   "pygments_lexer": "ipython3",
   "version": "3.6.4"
  }
 },
 "nbformat": 4,
 "nbformat_minor": 2
}
