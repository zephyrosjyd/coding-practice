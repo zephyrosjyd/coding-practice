{
 "cells": [
  {
   "cell_type": "code",
   "execution_count": 1,
   "metadata": {},
   "outputs": [],
   "source": [
    "class Test(object):\n",
    "    def __getitem__(self, items):\n",
    "        print(\"%-15s %s\" % (type(items), items))"
   ]
  },
  {
   "cell_type": "code",
   "execution_count": 2,
   "metadata": {},
   "outputs": [
    {
     "name": "stdout",
     "output_type": "stream",
     "text": [
      "<class 'int'>   1\n"
     ]
    }
   ],
   "source": [
    "t = Test()\n",
    "t[1]"
   ]
  },
  {
   "cell_type": "code",
   "execution_count": 3,
   "metadata": {},
   "outputs": [
    {
     "name": "stdout",
     "output_type": "stream",
     "text": [
      "<class 'str'>   hello world\n"
     ]
    }
   ],
   "source": [
    "t['hello world']"
   ]
  },
  {
   "cell_type": "code",
   "execution_count": 4,
   "metadata": {},
   "outputs": [
    {
     "name": "stdout",
     "output_type": "stream",
     "text": [
      "<class 'slice'> slice(5, 200, 10)\n"
     ]
    }
   ],
   "source": [
    "t[5:200:10]"
   ]
  },
  {
   "cell_type": "code",
   "execution_count": 5,
   "metadata": {},
   "outputs": [
    {
     "name": "stdout",
     "output_type": "stream",
     "text": [
      "<class 'object'> <object object at 0x000001E68F7A0370>\n"
     ]
    }
   ],
   "source": [
    "t[object()]"
   ]
  },
  {
   "cell_type": "code",
   "execution_count": 6,
   "metadata": {},
   "outputs": [
    {
     "data": {
      "text/plain": [
       "['__class__',\n",
       " '__delattr__',\n",
       " '__dict__',\n",
       " '__dir__',\n",
       " '__doc__',\n",
       " '__eq__',\n",
       " '__format__',\n",
       " '__ge__',\n",
       " '__getattribute__',\n",
       " '__getitem__',\n",
       " '__gt__',\n",
       " '__hash__',\n",
       " '__init__',\n",
       " '__init_subclass__',\n",
       " '__le__',\n",
       " '__lt__',\n",
       " '__module__',\n",
       " '__ne__',\n",
       " '__new__',\n",
       " '__reduce__',\n",
       " '__reduce_ex__',\n",
       " '__repr__',\n",
       " '__setattr__',\n",
       " '__sizeof__',\n",
       " '__str__',\n",
       " '__subclasshook__',\n",
       " '__weakref__']"
      ]
     },
     "execution_count": 6,
     "metadata": {},
     "output_type": "execute_result"
    }
   ],
   "source": [
    "dir(t)"
   ]
  },
  {
   "cell_type": "code",
   "execution_count": 7,
   "metadata": {},
   "outputs": [],
   "source": [
    "class Test:\n",
    "    def __call__(self, *args, **kwargs):\n",
    "        print(args)\n",
    "        print(kwargs)\n",
    "        print('-' * 80)"
   ]
  },
  {
   "cell_type": "code",
   "execution_count": 8,
   "metadata": {},
   "outputs": [
    {
     "name": "stdout",
     "output_type": "stream",
     "text": [
      "(1, 2, 3)\n",
      "{}\n",
      "--------------------------------------------------------------------------------\n"
     ]
    }
   ],
   "source": [
    "t = Test()\n",
    "t(1, 2, 3)"
   ]
  },
  {
   "cell_type": "code",
   "execution_count": 9,
   "metadata": {},
   "outputs": [
    {
     "data": {
      "text/plain": [
       "['__call__',\n",
       " '__class__',\n",
       " '__delattr__',\n",
       " '__dict__',\n",
       " '__dir__',\n",
       " '__doc__',\n",
       " '__eq__',\n",
       " '__format__',\n",
       " '__ge__',\n",
       " '__getattribute__',\n",
       " '__gt__',\n",
       " '__hash__',\n",
       " '__init__',\n",
       " '__init_subclass__',\n",
       " '__le__',\n",
       " '__lt__',\n",
       " '__module__',\n",
       " '__ne__',\n",
       " '__new__',\n",
       " '__reduce__',\n",
       " '__reduce_ex__',\n",
       " '__repr__',\n",
       " '__setattr__',\n",
       " '__sizeof__',\n",
       " '__str__',\n",
       " '__subclasshook__',\n",
       " '__weakref__']"
      ]
     },
     "execution_count": 9,
     "metadata": {},
     "output_type": "execute_result"
    }
   ],
   "source": [
    "dir(t)"
   ]
  },
  {
   "cell_type": "code",
   "execution_count": 12,
   "metadata": {},
   "outputs": [
    {
     "name": "stdout",
     "output_type": "stream",
     "text": [
      "()\n",
      "{'a': 1, 'b': 2, 'c': 3}\n",
      "--------------------------------------------------------------------------------\n"
     ]
    }
   ],
   "source": [
    "t(a=1, b=2, c=3)"
   ]
  },
  {
   "cell_type": "code",
   "execution_count": 13,
   "metadata": {},
   "outputs": [
    {
     "name": "stdout",
     "output_type": "stream",
     "text": [
      "(4, 5, 6)\n",
      "{'d': 4, 'e': 5, 'f': 6}\n",
      "--------------------------------------------------------------------------------\n"
     ]
    }
   ],
   "source": [
    "t(4, 5, 6, d=4, e=5, f=6)"
   ]
  },
  {
   "cell_type": "code",
   "execution_count": 14,
   "metadata": {},
   "outputs": [],
   "source": [
    "class Test:\n",
    "    def __init__(self):\n",
    "        self.a = 'a'\n",
    "        self.b = 'b'\n",
    "        \n",
    "    def __getattr__(self, name):\n",
    "        return 123456\n",
    "    \n",
    "t = Test()"
   ]
  },
  {
   "cell_type": "code",
   "execution_count": 16,
   "metadata": {},
   "outputs": [
    {
     "name": "stdout",
     "output_type": "stream",
     "text": [
      "object variables: dict_keys(['a', 'b'])\n"
     ]
    }
   ],
   "source": [
    "print(\"object variables: %r\" % t.__dict__.keys())"
   ]
  },
  {
   "cell_type": "code",
   "execution_count": 18,
   "metadata": {},
   "outputs": [
    {
     "data": {
      "text/plain": [
       "{'a': 'a', 'b': 'b'}"
      ]
     },
     "execution_count": 18,
     "metadata": {},
     "output_type": "execute_result"
    }
   ],
   "source": [
    "t.__dict__"
   ]
  },
  {
   "cell_type": "code",
   "execution_count": 19,
   "metadata": {},
   "outputs": [
    {
     "data": {
      "text/plain": [
       "['__class__',\n",
       " '__delattr__',\n",
       " '__dict__',\n",
       " '__dir__',\n",
       " '__doc__',\n",
       " '__eq__',\n",
       " '__format__',\n",
       " '__ge__',\n",
       " '__getattr__',\n",
       " '__getattribute__',\n",
       " '__gt__',\n",
       " '__hash__',\n",
       " '__init__',\n",
       " '__init_subclass__',\n",
       " '__le__',\n",
       " '__lt__',\n",
       " '__module__',\n",
       " '__ne__',\n",
       " '__new__',\n",
       " '__reduce__',\n",
       " '__reduce_ex__',\n",
       " '__repr__',\n",
       " '__setattr__',\n",
       " '__sizeof__',\n",
       " '__str__',\n",
       " '__subclasshook__',\n",
       " '__weakref__',\n",
       " 'a',\n",
       " 'b']"
      ]
     },
     "execution_count": 19,
     "metadata": {},
     "output_type": "execute_result"
    }
   ],
   "source": [
    "dir(t)"
   ]
  },
  {
   "cell_type": "code",
   "execution_count": 20,
   "metadata": {},
   "outputs": [
    {
     "name": "stdout",
     "output_type": "stream",
     "text": [
      "a\n",
      "b\n",
      "123456\n"
     ]
    }
   ],
   "source": [
    "print(t.a)\n",
    "print(t.b)\n",
    "print(t.c)"
   ]
  },
  {
   "cell_type": "code",
   "execution_count": 21,
   "metadata": {},
   "outputs": [
    {
     "name": "stdout",
     "output_type": "stream",
     "text": [
      "123456\n",
      "True\n"
     ]
    }
   ],
   "source": [
    "print(getattr(t, 'd'))\n",
    "print(hasattr(t, 'x'))"
   ]
  },
  {
   "cell_type": "code",
   "execution_count": 22,
   "metadata": {},
   "outputs": [
    {
     "name": "stdout",
     "output_type": "stream",
     "text": [
      "set a to 'a'\n",
      "set b to 'b'\n"
     ]
    }
   ],
   "source": [
    "class Test:\n",
    "    def __init__(self):\n",
    "        self.a = 'a'\n",
    "        self.b = 'b'\n",
    "        \n",
    "    def __setattr__(self, name, value):\n",
    "        print(\"set {} to {}\".format(name, repr(value)))\n",
    "        \n",
    "        if name in ('a', 'b'):\n",
    "            object.__setattr__(self, name, value)\n",
    "            \n",
    "t = Test()"
   ]
  },
  {
   "cell_type": "code",
   "execution_count": 23,
   "metadata": {},
   "outputs": [
    {
     "name": "stdout",
     "output_type": "stream",
     "text": [
      "set c to 'z'\n",
      "set d to '888'\n"
     ]
    }
   ],
   "source": [
    "t.c = 'z'\n",
    "setattr(t, 'd', '888')"
   ]
  },
  {
   "cell_type": "code",
   "execution_count": 24,
   "metadata": {},
   "outputs": [
    {
     "name": "stdout",
     "output_type": "stream",
     "text": [
      "set a to 'x'\n"
     ]
    }
   ],
   "source": [
    "t.a = 'x'"
   ]
  },
  {
   "cell_type": "code",
   "execution_count": 25,
   "metadata": {},
   "outputs": [
    {
     "data": {
      "text/plain": [
       "'x'"
      ]
     },
     "execution_count": 25,
     "metadata": {},
     "output_type": "execute_result"
    }
   ],
   "source": [
    "t.a"
   ]
  },
  {
   "cell_type": "code",
   "execution_count": 26,
   "metadata": {},
   "outputs": [
    {
     "ename": "AttributeError",
     "evalue": "'Test' object has no attribute 'c'",
     "output_type": "error",
     "traceback": [
      "\u001b[1;31m---------------------------------------------------------------------------\u001b[0m",
      "\u001b[1;31mAttributeError\u001b[0m                            Traceback (most recent call last)",
      "\u001b[1;32m<ipython-input-26-99b9c3448745>\u001b[0m in \u001b[0;36m<module>\u001b[1;34m()\u001b[0m\n\u001b[1;32m----> 1\u001b[1;33m \u001b[0mt\u001b[0m\u001b[1;33m.\u001b[0m\u001b[0mc\u001b[0m\u001b[1;33m\u001b[0m\u001b[0m\n\u001b[0m",
      "\u001b[1;31mAttributeError\u001b[0m: 'Test' object has no attribute 'c'"
     ]
    }
   ],
   "source": [
    "t.c"
   ]
  },
  {
   "cell_type": "code",
   "execution_count": 27,
   "metadata": {},
   "outputs": [
    {
     "data": {
      "text/plain": [
       "{'In': ['',\n",
       "  'class Test(object):\\n    def __getitem__(self, items):\\n        print(\"%-15s %s\" % (type(items), items))',\n",
       "  't = Test()\\nt[1]',\n",
       "  \"t['hello world']\",\n",
       "  't[5:200:10]',\n",
       "  't[object()]',\n",
       "  'dir(t)',\n",
       "  \"class Test:\\n    def __call__(self, *args, **kwargs):\\n        print(args)\\n        print(kwargs)\\n        print('-' * 80)\",\n",
       "  't = Test()\\nt(1, 2, 3)',\n",
       "  'dir(t)',\n",
       "  'print(t)',\n",
       "  'dict(t)',\n",
       "  't(a=1, b=2, c=3)',\n",
       "  't(4, 5, 6, d=4, e=5, f=6)',\n",
       "  \"class Test:\\n    def __init__(self):\\n        self.a = 'a'\\n        self.b = 'b'\\n        \\n    def __getattr__(self, name):\\n        return 123456\\n    \\nt = Test()\",\n",
       "  'print(\"object variables: %r\" % t.__dict__.key())',\n",
       "  'print(\"object variables: %r\" % t.__dict__.keys())',\n",
       "  't.__dict__()',\n",
       "  't.__dict__',\n",
       "  'dir(t)',\n",
       "  'print(t.a)\\nprint(t.b)\\nprint(t.c)',\n",
       "  \"print(getattr(t, 'd'))\\nprint(hasattr(t, 'x'))\",\n",
       "  'class Test:\\n    def __init__(self):\\n        self.a = \\'a\\'\\n        self.b = \\'b\\'\\n        \\n    def __setattr__(self, name, value):\\n        print(\"set {} to {}\".format(name, repr(value)))\\n        \\n        if name in (\\'a\\', \\'b\\'):\\n            object.__setattr__(self, name, value)\\n            \\nt = Test()',\n",
       "  \"t.c = 'z'\\nsetattr(t, 'd', '888')\",\n",
       "  \"t.a = 'x'\",\n",
       "  't.a',\n",
       "  't.c',\n",
       "  'locals()'],\n",
       " 'Out': {6: ['__class__',\n",
       "   '__delattr__',\n",
       "   '__dict__',\n",
       "   '__dir__',\n",
       "   '__doc__',\n",
       "   '__eq__',\n",
       "   '__format__',\n",
       "   '__ge__',\n",
       "   '__getattribute__',\n",
       "   '__getitem__',\n",
       "   '__gt__',\n",
       "   '__hash__',\n",
       "   '__init__',\n",
       "   '__init_subclass__',\n",
       "   '__le__',\n",
       "   '__lt__',\n",
       "   '__module__',\n",
       "   '__ne__',\n",
       "   '__new__',\n",
       "   '__reduce__',\n",
       "   '__reduce_ex__',\n",
       "   '__repr__',\n",
       "   '__setattr__',\n",
       "   '__sizeof__',\n",
       "   '__str__',\n",
       "   '__subclasshook__',\n",
       "   '__weakref__'],\n",
       "  9: ['__call__',\n",
       "   '__class__',\n",
       "   '__delattr__',\n",
       "   '__dict__',\n",
       "   '__dir__',\n",
       "   '__doc__',\n",
       "   '__eq__',\n",
       "   '__format__',\n",
       "   '__ge__',\n",
       "   '__getattribute__',\n",
       "   '__gt__',\n",
       "   '__hash__',\n",
       "   '__init__',\n",
       "   '__init_subclass__',\n",
       "   '__le__',\n",
       "   '__lt__',\n",
       "   '__module__',\n",
       "   '__ne__',\n",
       "   '__new__',\n",
       "   '__reduce__',\n",
       "   '__reduce_ex__',\n",
       "   '__repr__',\n",
       "   '__setattr__',\n",
       "   '__sizeof__',\n",
       "   '__str__',\n",
       "   '__subclasshook__',\n",
       "   '__weakref__'],\n",
       "  18: {'a': 'a', 'b': 'b'},\n",
       "  19: ['__class__',\n",
       "   '__delattr__',\n",
       "   '__dict__',\n",
       "   '__dir__',\n",
       "   '__doc__',\n",
       "   '__eq__',\n",
       "   '__format__',\n",
       "   '__ge__',\n",
       "   '__getattr__',\n",
       "   '__getattribute__',\n",
       "   '__gt__',\n",
       "   '__hash__',\n",
       "   '__init__',\n",
       "   '__init_subclass__',\n",
       "   '__le__',\n",
       "   '__lt__',\n",
       "   '__module__',\n",
       "   '__ne__',\n",
       "   '__new__',\n",
       "   '__reduce__',\n",
       "   '__reduce_ex__',\n",
       "   '__repr__',\n",
       "   '__setattr__',\n",
       "   '__sizeof__',\n",
       "   '__str__',\n",
       "   '__subclasshook__',\n",
       "   '__weakref__',\n",
       "   'a',\n",
       "   'b'],\n",
       "  25: 'x'},\n",
       " 'Test': __main__.Test,\n",
       " '_': 'x',\n",
       " '_18': {'a': 'a', 'b': 'b'},\n",
       " '_19': ['__class__',\n",
       "  '__delattr__',\n",
       "  '__dict__',\n",
       "  '__dir__',\n",
       "  '__doc__',\n",
       "  '__eq__',\n",
       "  '__format__',\n",
       "  '__ge__',\n",
       "  '__getattr__',\n",
       "  '__getattribute__',\n",
       "  '__gt__',\n",
       "  '__hash__',\n",
       "  '__init__',\n",
       "  '__init_subclass__',\n",
       "  '__le__',\n",
       "  '__lt__',\n",
       "  '__module__',\n",
       "  '__ne__',\n",
       "  '__new__',\n",
       "  '__reduce__',\n",
       "  '__reduce_ex__',\n",
       "  '__repr__',\n",
       "  '__setattr__',\n",
       "  '__sizeof__',\n",
       "  '__str__',\n",
       "  '__subclasshook__',\n",
       "  '__weakref__',\n",
       "  'a',\n",
       "  'b'],\n",
       " '_25': 'x',\n",
       " '_6': ['__class__',\n",
       "  '__delattr__',\n",
       "  '__dict__',\n",
       "  '__dir__',\n",
       "  '__doc__',\n",
       "  '__eq__',\n",
       "  '__format__',\n",
       "  '__ge__',\n",
       "  '__getattribute__',\n",
       "  '__getitem__',\n",
       "  '__gt__',\n",
       "  '__hash__',\n",
       "  '__init__',\n",
       "  '__init_subclass__',\n",
       "  '__le__',\n",
       "  '__lt__',\n",
       "  '__module__',\n",
       "  '__ne__',\n",
       "  '__new__',\n",
       "  '__reduce__',\n",
       "  '__reduce_ex__',\n",
       "  '__repr__',\n",
       "  '__setattr__',\n",
       "  '__sizeof__',\n",
       "  '__str__',\n",
       "  '__subclasshook__',\n",
       "  '__weakref__'],\n",
       " '_9': ['__call__',\n",
       "  '__class__',\n",
       "  '__delattr__',\n",
       "  '__dict__',\n",
       "  '__dir__',\n",
       "  '__doc__',\n",
       "  '__eq__',\n",
       "  '__format__',\n",
       "  '__ge__',\n",
       "  '__getattribute__',\n",
       "  '__gt__',\n",
       "  '__hash__',\n",
       "  '__init__',\n",
       "  '__init_subclass__',\n",
       "  '__le__',\n",
       "  '__lt__',\n",
       "  '__module__',\n",
       "  '__ne__',\n",
       "  '__new__',\n",
       "  '__reduce__',\n",
       "  '__reduce_ex__',\n",
       "  '__repr__',\n",
       "  '__setattr__',\n",
       "  '__sizeof__',\n",
       "  '__str__',\n",
       "  '__subclasshook__',\n",
       "  '__weakref__'],\n",
       " '__': ['__class__',\n",
       "  '__delattr__',\n",
       "  '__dict__',\n",
       "  '__dir__',\n",
       "  '__doc__',\n",
       "  '__eq__',\n",
       "  '__format__',\n",
       "  '__ge__',\n",
       "  '__getattr__',\n",
       "  '__getattribute__',\n",
       "  '__gt__',\n",
       "  '__hash__',\n",
       "  '__init__',\n",
       "  '__init_subclass__',\n",
       "  '__le__',\n",
       "  '__lt__',\n",
       "  '__module__',\n",
       "  '__ne__',\n",
       "  '__new__',\n",
       "  '__reduce__',\n",
       "  '__reduce_ex__',\n",
       "  '__repr__',\n",
       "  '__setattr__',\n",
       "  '__sizeof__',\n",
       "  '__str__',\n",
       "  '__subclasshook__',\n",
       "  '__weakref__',\n",
       "  'a',\n",
       "  'b'],\n",
       " '___': {'a': 'a', 'b': 'b'},\n",
       " '__builtin__': <module 'builtins' (built-in)>,\n",
       " '__builtins__': <module 'builtins' (built-in)>,\n",
       " '__doc__': 'Automatically created module for IPython interactive environment',\n",
       " '__loader__': None,\n",
       " '__name__': '__main__',\n",
       " '__package__': None,\n",
       " '__spec__': None,\n",
       " '_dh': ['E:\\\\workspaces\\\\coding-practice\\\\playground'],\n",
       " '_i': 't.c',\n",
       " '_i1': 'class Test(object):\\n    def __getitem__(self, items):\\n        print(\"%-15s %s\" % (type(items), items))',\n",
       " '_i10': 'print(t)',\n",
       " '_i11': 'dict(t)',\n",
       " '_i12': 't(a=1, b=2, c=3)',\n",
       " '_i13': 't(4, 5, 6, d=4, e=5, f=6)',\n",
       " '_i14': \"class Test:\\n    def __init__(self):\\n        self.a = 'a'\\n        self.b = 'b'\\n        \\n    def __getattr__(self, name):\\n        return 123456\\n    \\nt = Test()\",\n",
       " '_i15': 'print(\"object variables: %r\" % t.__dict__.key())',\n",
       " '_i16': 'print(\"object variables: %r\" % t.__dict__.keys())',\n",
       " '_i17': 't.__dict__()',\n",
       " '_i18': 't.__dict__',\n",
       " '_i19': 'dir(t)',\n",
       " '_i2': 't = Test()\\nt[1]',\n",
       " '_i20': 'print(t.a)\\nprint(t.b)\\nprint(t.c)',\n",
       " '_i21': \"print(getattr(t, 'd'))\\nprint(hasattr(t, 'x'))\",\n",
       " '_i22': 'class Test:\\n    def __init__(self):\\n        self.a = \\'a\\'\\n        self.b = \\'b\\'\\n        \\n    def __setattr__(self, name, value):\\n        print(\"set {} to {}\".format(name, repr(value)))\\n        \\n        if name in (\\'a\\', \\'b\\'):\\n            object.__setattr__(self, name, value)\\n            \\nt = Test()',\n",
       " '_i23': \"t.c = 'z'\\nsetattr(t, 'd', '888')\",\n",
       " '_i24': \"t.a = 'x'\",\n",
       " '_i25': 't.a',\n",
       " '_i26': 't.c',\n",
       " '_i27': 'locals()',\n",
       " '_i3': \"t['hello world']\",\n",
       " '_i4': 't[5:200:10]',\n",
       " '_i5': 't[object()]',\n",
       " '_i6': 'dir(t)',\n",
       " '_i7': \"class Test:\\n    def __call__(self, *args, **kwargs):\\n        print(args)\\n        print(kwargs)\\n        print('-' * 80)\",\n",
       " '_i8': 't = Test()\\nt(1, 2, 3)',\n",
       " '_i9': 'dir(t)',\n",
       " '_ih': ['',\n",
       "  'class Test(object):\\n    def __getitem__(self, items):\\n        print(\"%-15s %s\" % (type(items), items))',\n",
       "  't = Test()\\nt[1]',\n",
       "  \"t['hello world']\",\n",
       "  't[5:200:10]',\n",
       "  't[object()]',\n",
       "  'dir(t)',\n",
       "  \"class Test:\\n    def __call__(self, *args, **kwargs):\\n        print(args)\\n        print(kwargs)\\n        print('-' * 80)\",\n",
       "  't = Test()\\nt(1, 2, 3)',\n",
       "  'dir(t)',\n",
       "  'print(t)',\n",
       "  'dict(t)',\n",
       "  't(a=1, b=2, c=3)',\n",
       "  't(4, 5, 6, d=4, e=5, f=6)',\n",
       "  \"class Test:\\n    def __init__(self):\\n        self.a = 'a'\\n        self.b = 'b'\\n        \\n    def __getattr__(self, name):\\n        return 123456\\n    \\nt = Test()\",\n",
       "  'print(\"object variables: %r\" % t.__dict__.key())',\n",
       "  'print(\"object variables: %r\" % t.__dict__.keys())',\n",
       "  't.__dict__()',\n",
       "  't.__dict__',\n",
       "  'dir(t)',\n",
       "  'print(t.a)\\nprint(t.b)\\nprint(t.c)',\n",
       "  \"print(getattr(t, 'd'))\\nprint(hasattr(t, 'x'))\",\n",
       "  'class Test:\\n    def __init__(self):\\n        self.a = \\'a\\'\\n        self.b = \\'b\\'\\n        \\n    def __setattr__(self, name, value):\\n        print(\"set {} to {}\".format(name, repr(value)))\\n        \\n        if name in (\\'a\\', \\'b\\'):\\n            object.__setattr__(self, name, value)\\n            \\nt = Test()',\n",
       "  \"t.c = 'z'\\nsetattr(t, 'd', '888')\",\n",
       "  \"t.a = 'x'\",\n",
       "  't.a',\n",
       "  't.c',\n",
       "  'locals()'],\n",
       " '_ii': 't.a',\n",
       " '_iii': \"t.a = 'x'\",\n",
       " '_oh': {6: ['__class__',\n",
       "   '__delattr__',\n",
       "   '__dict__',\n",
       "   '__dir__',\n",
       "   '__doc__',\n",
       "   '__eq__',\n",
       "   '__format__',\n",
       "   '__ge__',\n",
       "   '__getattribute__',\n",
       "   '__getitem__',\n",
       "   '__gt__',\n",
       "   '__hash__',\n",
       "   '__init__',\n",
       "   '__init_subclass__',\n",
       "   '__le__',\n",
       "   '__lt__',\n",
       "   '__module__',\n",
       "   '__ne__',\n",
       "   '__new__',\n",
       "   '__reduce__',\n",
       "   '__reduce_ex__',\n",
       "   '__repr__',\n",
       "   '__setattr__',\n",
       "   '__sizeof__',\n",
       "   '__str__',\n",
       "   '__subclasshook__',\n",
       "   '__weakref__'],\n",
       "  9: ['__call__',\n",
       "   '__class__',\n",
       "   '__delattr__',\n",
       "   '__dict__',\n",
       "   '__dir__',\n",
       "   '__doc__',\n",
       "   '__eq__',\n",
       "   '__format__',\n",
       "   '__ge__',\n",
       "   '__getattribute__',\n",
       "   '__gt__',\n",
       "   '__hash__',\n",
       "   '__init__',\n",
       "   '__init_subclass__',\n",
       "   '__le__',\n",
       "   '__lt__',\n",
       "   '__module__',\n",
       "   '__ne__',\n",
       "   '__new__',\n",
       "   '__reduce__',\n",
       "   '__reduce_ex__',\n",
       "   '__repr__',\n",
       "   '__setattr__',\n",
       "   '__sizeof__',\n",
       "   '__str__',\n",
       "   '__subclasshook__',\n",
       "   '__weakref__'],\n",
       "  18: {'a': 'a', 'b': 'b'},\n",
       "  19: ['__class__',\n",
       "   '__delattr__',\n",
       "   '__dict__',\n",
       "   '__dir__',\n",
       "   '__doc__',\n",
       "   '__eq__',\n",
       "   '__format__',\n",
       "   '__ge__',\n",
       "   '__getattr__',\n",
       "   '__getattribute__',\n",
       "   '__gt__',\n",
       "   '__hash__',\n",
       "   '__init__',\n",
       "   '__init_subclass__',\n",
       "   '__le__',\n",
       "   '__lt__',\n",
       "   '__module__',\n",
       "   '__ne__',\n",
       "   '__new__',\n",
       "   '__reduce__',\n",
       "   '__reduce_ex__',\n",
       "   '__repr__',\n",
       "   '__setattr__',\n",
       "   '__sizeof__',\n",
       "   '__str__',\n",
       "   '__subclasshook__',\n",
       "   '__weakref__',\n",
       "   'a',\n",
       "   'b'],\n",
       "  25: 'x'},\n",
       " 'exit': <IPython.core.autocall.ZMQExitAutocall at 0x1e68fd41208>,\n",
       " 'get_ipython': <bound method InteractiveShell.get_ipython of <ipykernel.zmqshell.ZMQInteractiveShell object at 0x000001E68D0D9E80>>,\n",
       " 'quit': <IPython.core.autocall.ZMQExitAutocall at 0x1e68fd41208>,\n",
       " 't': <__main__.Test at 0x1e690ea3390>}"
      ]
     },
     "execution_count": 27,
     "metadata": {},
     "output_type": "execute_result"
    }
   ],
   "source": [
    "locals()"
   ]
  },
  {
   "cell_type": "code",
   "execution_count": 28,
   "metadata": {},
   "outputs": [],
   "source": [
    "from string import Template"
   ]
  },
  {
   "cell_type": "code",
   "execution_count": null,
   "metadata": {},
   "outputs": [],
   "source": []
  }
 ],
 "metadata": {
  "kernelspec": {
   "display_name": "Python 3",
   "language": "python",
   "name": "python3"
  },
  "language_info": {
   "codemirror_mode": {
    "name": "ipython",
    "version": 3
   },
   "file_extension": ".py",
   "mimetype": "text/x-python",
   "name": "python",
   "nbconvert_exporter": "python",
   "pygments_lexer": "ipython3",
   "version": "3.6.4"
  }
 },
 "nbformat": 4,
 "nbformat_minor": 2
}
