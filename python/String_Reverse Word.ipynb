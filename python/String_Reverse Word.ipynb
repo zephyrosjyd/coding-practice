{
 "cells": [
  {
   "cell_type": "markdown",
   "metadata": {},
   "source": [
    "### 주어진 string에서 모든 단어를 거꾸로 하시오.\n",
    "\n",
    "##### 예제)\n",
    "Input: \n",
    "```python\n",
    "abc 123 apple\n",
    "```\n",
    "\n",
    "Output:\n",
    "```python\n",
    "cba 321 elppa\n",
    "```"
   ]
  },
  {
   "cell_type": "code",
   "execution_count": 8,
   "metadata": {},
   "outputs": [],
   "source": [
    "def reverse_words(arg: str) -> str:\n",
    "    return ' '.join( [''.join(list(reversed(w))) for w in arg.split(' ')] )"
   ]
  },
  {
   "cell_type": "code",
   "execution_count": 9,
   "metadata": {},
   "outputs": [
    {
     "data": {
      "text/plain": [
       "'cba 321 elppa'"
      ]
     },
     "execution_count": 9,
     "metadata": {},
     "output_type": "execute_result"
    }
   ],
   "source": [
    "reverse_words(\"abc 123 apple\")"
   ]
  },
  {
   "cell_type": "code",
   "execution_count": 16,
   "metadata": {},
   "outputs": [],
   "source": [
    "def reverse(word: str) -> str:\n",
    "    rev = [c for c in word]\n",
    "    for i in range(len(rev)//2):\n",
    "        rev[i], rev[(i+1) * -1] = rev[(i+1) * -1], rev[i]\n",
    "    return ''.join(rev)\n",
    "\n",
    "def reverse_words2(arg: str) -> str:\n",
    "    words = arg.split(' ')\n",
    "    rev_words = [reverse(w) for w in words]\n",
    "    return ' '.join(rev_words)"
   ]
  },
  {
   "cell_type": "code",
   "execution_count": 17,
   "metadata": {},
   "outputs": [
    {
     "data": {
      "text/plain": [
       "'cba 321 elppa'"
      ]
     },
     "execution_count": 17,
     "metadata": {},
     "output_type": "execute_result"
    }
   ],
   "source": [
    "reverse_words2(\"abc 123 apple\")"
   ]
  },
  {
   "cell_type": "code",
   "execution_count": null,
   "metadata": {},
   "outputs": [],
   "source": []
  }
 ],
 "metadata": {
  "kernelspec": {
   "display_name": "Python 3",
   "language": "python",
   "name": "python3"
  },
  "language_info": {
   "codemirror_mode": {
    "name": "ipython",
    "version": 3
   },
   "file_extension": ".py",
   "mimetype": "text/x-python",
   "name": "python",
   "nbconvert_exporter": "python",
   "pygments_lexer": "ipython3",
   "version": "3.6.4"
  }
 },
 "nbformat": 4,
 "nbformat_minor": 2
}
