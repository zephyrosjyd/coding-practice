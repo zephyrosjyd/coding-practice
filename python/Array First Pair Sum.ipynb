{
 "cells": [
  {
   "cell_type": "markdown",
   "metadata": {},
   "source": [
    "### 정수 배열과 정수 k가 주어지면, 두 원소의 합이 k가 되는 첫번째 두 원소의 인덱스를 찾으시오.\n",
    "#### 단, 시간복잡도는 O(n)\n",
    "\n",
    "##### 예제)\n",
    "```\n",
    "input: [2, 5, 6, 1, 10], target 8\n",
    "output: [0, 2]    // 배열[0] + 배열[2] = 8\n",
    "```"
   ]
  },
  {
   "cell_type": "code",
   "execution_count": 1,
   "metadata": {
    "collapsed": true
   },
   "outputs": [],
   "source": [
    "import time\n",
    "\n",
    "def timeit(f):\n",
    "\n",
    "    def timed(*args, **kw):\n",
    "\n",
    "        ts = time.time()\n",
    "        result = f(*args, **kw)\n",
    "        te = time.time()\n",
    "\n",
    "        print('func:%r \\nargs:[%r, %r] \\ntook: %2.4f sec' % (f.__name__, args, kw, te-ts))\n",
    "        return result\n",
    "\n",
    "    return timed"
   ]
  },
  {
   "cell_type": "code",
   "execution_count": 2,
   "metadata": {
    "collapsed": true
   },
   "outputs": [],
   "source": [
    "@timeit\n",
    "def findIndices(arr, target):\n",
    "    \n",
    "    traversed = {}  # Dictionary/Map\n",
    "    for i in range(len(arr)):\n",
    "        complement = target - arr[i]  # 합은 보수 관계\n",
    "        \n",
    "        if complement in traversed:\n",
    "            return [traversed.get(complement), i]\n",
    "        traversed[arr[i]] = i  # add into dict/map\n",
    "        \n",
    "    return [-1, -1]"
   ]
  },
  {
   "cell_type": "code",
   "execution_count": 3,
   "metadata": {},
   "outputs": [
    {
     "name": "stdout",
     "output_type": "stream",
     "text": [
      "func:'findIndices' \n",
      "args:[([2, 5, 6, 1, 10], 8), {}] \n",
      "took: 0.0000 sec\n",
      "[0, 2]\n"
     ]
    }
   ],
   "source": [
    "result = findIndices([2, 5, 6, 1, 10], 8)\n",
    "print(result)"
   ]
  },
  {
   "cell_type": "code",
   "execution_count": 4,
   "metadata": {},
   "outputs": [
    {
     "name": "stdout",
     "output_type": "stream",
     "text": [
      "func:'findIndices' \n",
      "args:[([3, 4, 6, 7, 2, 1, 45, 552, 476, 52, 28, 9], 30), {}] \n",
      "took: 0.0000 sec\n",
      "[4, 10]\n"
     ]
    }
   ],
   "source": [
    "arr = [3, 4, 6, 7, 2, 1,45, 552, 476, 52, 28, 9]\n",
    "target = 30\n",
    "result = findIndices(arr, target)\n",
    "print(result)"
   ]
  },
  {
   "cell_type": "code",
   "execution_count": 6,
   "metadata": {},
   "outputs": [
    {
     "name": "stdout",
     "output_type": "stream",
     "text": [
      "func:'findIndices' \n",
      "args:[([3, 4, 6, 7, 2, 1, 45, 552, 476, 52, 28, 9], 12), {}] \n",
      "took: 0.0000 sec\n",
      "[0, 11]\n"
     ]
    }
   ],
   "source": [
    "#arr = [3, 4, 6, 7, 2, 1,45, 552, 476, 52, 28, 9]\n",
    "target = 12\n",
    "result = findIndices(arr, target)\n",
    "print(result)"
   ]
  },
  {
   "cell_type": "code",
   "execution_count": 5,
   "metadata": {},
   "outputs": [
    {
     "name": "stdout",
     "output_type": "stream",
     "text": [
      "func:'findIndices' \n",
      "args:[([3, 4, 6, 7, 2, 1, 45, 552, 476, 52, 28, 9], 7), {}] \n",
      "took: 0.0000 sec\n",
      "[0, 1]\n"
     ]
    }
   ],
   "source": [
    "#arr = [3, 4, 6, 7, 2, 1,45, 552, 476, 52, 28, 9]\n",
    "target = 7\n",
    "result = findIndices(arr, target)\n",
    "print(result)"
   ]
  },
  {
   "cell_type": "code",
   "execution_count": 7,
   "metadata": {},
   "outputs": [
    {
     "name": "stdout",
     "output_type": "stream",
     "text": [
      "func:'findIndices' \n",
      "args:[([3, 4, 6, 7, 2, 1, 45, 552, 476, 52, 28, 9], 10), {}] \n",
      "took: 0.0000 sec\n",
      "[1, 2]\n"
     ]
    }
   ],
   "source": [
    "#arr = [3, 4, 6, 7, 2, 1,45, 552, 476, 52, 28, 9]\n",
    "target = 10\n",
    "result = findIndices(arr, target)\n",
    "print(result)"
   ]
  },
  {
   "cell_type": "code",
   "execution_count": 14,
   "metadata": {},
   "outputs": [
    {
     "name": "stdout",
     "output_type": "stream",
     "text": [
      "func:'findIndices' \n",
      "args:[([27, 4, 38, 26, 23, 16, 45, 29, 29, 35, 12, 29, 5, 46, 16, 4, 6, 25, 16, 29, 46, 34, 11, 30, 13, 50, 22, 19, 32, 17, 7, 37, 32, 43, 19, 32, 34, 30, 47, 17, 36, 5, 13, 5, 1, 7, 15, 15, 47, 47, 40, 23, 5, 15, 39, 6, 27, 22, 49, 27, 41, 46, 27, 49, 48, 2, 30, 23, 20, 2, 27, 47, 31, 49, 31, 1, 24, 11, 16, 18, 17, 46, 46, 50, 22, 8, 40, 11, 50, 4, 4, 21, 26, 25, 7, 27, 31, 24, 26, 28], 55), {}] \n",
      "took: 0.0000 sec\n",
      "[3, 7]\n"
     ]
    }
   ],
   "source": [
    "from random import randint\n",
    "upper = 100\n",
    "arr = [randint(0, 50) for i in range(upper)]\n",
    "print(findIndices(arr, 55))"
   ]
  }
 ],
 "metadata": {
  "kernelspec": {
   "display_name": "Python [default]",
   "language": "python",
   "name": "python3"
  },
  "language_info": {
   "codemirror_mode": {
    "name": "ipython",
    "version": 3
   },
   "file_extension": ".py",
   "mimetype": "text/x-python",
   "name": "python",
   "nbconvert_exporter": "python",
   "pygments_lexer": "ipython3",
   "version": "3.6.4"
  }
 },
 "nbformat": 4,
 "nbformat_minor": 2
}
