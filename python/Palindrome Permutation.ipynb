{
 "cells": [
  {
   "cell_type": "markdown",
   "metadata": {},
   "source": [
    "### 주어진 문자열이 회문(palindrome)의 순열인지 아닌지 확인하는 함수를 작성하라.\n",
    "#### 회문(palindrome)이란 앞으로 읽으나 뒤로 읽으나 같은 단어 혹은 구절을 의미하며, 순열이란 문자열을 재배치하는 것을 뜻한다.\n",
    "#### 회문이 꼭 사전에 등장하는 단어로 제한될 필요는 없다.\n",
    "\n",
    "##### 예제\n",
    "```\n",
    "input: tact coa\n",
    "output: True (순열: \"taco cat\", \"atco cta\" 등등)\n",
    "```"
   ]
  }
 ],
 "metadata": {
  "kernelspec": {
   "display_name": "Python 3",
   "language": "python",
   "name": "python3"
  },
  "language_info": {
   "codemirror_mode": {
    "name": "ipython",
    "version": 3
   },
   "file_extension": ".py",
   "mimetype": "text/x-python",
   "name": "python",
   "nbconvert_exporter": "python",
   "pygments_lexer": "ipython3",
   "version": "3.6.4"
  }
 },
 "nbformat": 4,
 "nbformat_minor": 2
}
