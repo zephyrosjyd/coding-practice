{
 "cells": [
  {
   "cell_type": "code",
   "execution_count": 1,
   "metadata": {},
   "outputs": [],
   "source": [
    "import numpy as np"
   ]
  },
  {
   "cell_type": "code",
   "execution_count": 6,
   "metadata": {},
   "outputs": [],
   "source": [
    "def selection_sort(x):\n",
    "    for i in range(len(x)):\n",
    "        swap = i + np.argmin(x[i:])\n",
    "        (x[i], x[swap]) = (x[swap], x[i])\n",
    "    return x"
   ]
  },
  {
   "cell_type": "code",
   "execution_count": 8,
   "metadata": {},
   "outputs": [
    {
     "data": {
      "text/plain": [
       "array([1, 2, 3, 4, 5])"
      ]
     },
     "execution_count": 8,
     "metadata": {},
     "output_type": "execute_result"
    }
   ],
   "source": [
    "x = np.array([2, 1, 4, 3, 5])\n",
    "selection_sort(x)\n",
    "x"
   ]
  },
  {
   "cell_type": "code",
   "execution_count": 9,
   "metadata": {},
   "outputs": [
    {
     "data": {
      "text/plain": [
       "\u001b[1;31mSignature:\u001b[0m \u001b[0mnp\u001b[0m\u001b[1;33m.\u001b[0m\u001b[0margmin\u001b[0m\u001b[1;33m(\u001b[0m\u001b[0ma\u001b[0m\u001b[1;33m,\u001b[0m \u001b[0maxis\u001b[0m\u001b[1;33m=\u001b[0m\u001b[1;32mNone\u001b[0m\u001b[1;33m,\u001b[0m \u001b[0mout\u001b[0m\u001b[1;33m=\u001b[0m\u001b[1;32mNone\u001b[0m\u001b[1;33m)\u001b[0m\u001b[1;33m\u001b[0m\u001b[0m\n",
       "\u001b[1;31mSource:\u001b[0m   \n",
       "\u001b[1;32mdef\u001b[0m \u001b[0margmin\u001b[0m\u001b[1;33m(\u001b[0m\u001b[0ma\u001b[0m\u001b[1;33m,\u001b[0m \u001b[0maxis\u001b[0m\u001b[1;33m=\u001b[0m\u001b[1;32mNone\u001b[0m\u001b[1;33m,\u001b[0m \u001b[0mout\u001b[0m\u001b[1;33m=\u001b[0m\u001b[1;32mNone\u001b[0m\u001b[1;33m)\u001b[0m\u001b[1;33m:\u001b[0m\u001b[1;33m\n",
       "\u001b[0m    \u001b[1;34m\"\"\"\n",
       "    Returns the indices of the minimum values along an axis.\n",
       "\n",
       "    Parameters\n",
       "    ----------\n",
       "    a : array_like\n",
       "        Input array.\n",
       "    axis : int, optional\n",
       "        By default, the index is into the flattened array, otherwise\n",
       "        along the specified axis.\n",
       "    out : array, optional\n",
       "        If provided, the result will be inserted into this array. It should\n",
       "        be of the appropriate shape and dtype.\n",
       "\n",
       "    Returns\n",
       "    -------\n",
       "    index_array : ndarray of ints\n",
       "        Array of indices into the array. It has the same shape as `a.shape`\n",
       "        with the dimension along `axis` removed.\n",
       "\n",
       "    See Also\n",
       "    --------\n",
       "    ndarray.argmin, argmax\n",
       "    amin : The minimum value along a given axis.\n",
       "    unravel_index : Convert a flat index into an index tuple.\n",
       "\n",
       "    Notes\n",
       "    -----\n",
       "    In case of multiple occurrences of the minimum values, the indices\n",
       "    corresponding to the first occurrence are returned.\n",
       "\n",
       "    Examples\n",
       "    --------\n",
       "    >>> a = np.arange(6).reshape(2,3)\n",
       "    >>> a\n",
       "    array([[0, 1, 2],\n",
       "           [3, 4, 5]])\n",
       "    >>> np.argmin(a)\n",
       "    0\n",
       "    >>> np.argmin(a, axis=0)\n",
       "    array([0, 0, 0])\n",
       "    >>> np.argmin(a, axis=1)\n",
       "    array([0, 0])\n",
       "\n",
       "    Indices of the minimum elements of a N-dimensional array:\n",
       "\n",
       "    >>> ind = np.unravel_index(np.argmin(a, axis=None), a.shape)\n",
       "    >>> ind\n",
       "    (0, 0)\n",
       "    >>> a[ind]\n",
       "    0\n",
       "\n",
       "    >>> b = np.arange(6)\n",
       "    >>> b[4] = 0\n",
       "    >>> b\n",
       "    array([0, 1, 2, 3, 0, 5])\n",
       "    >>> np.argmin(b)  # Only the first occurrence is returned.\n",
       "    0\n",
       "\n",
       "    \"\"\"\u001b[0m\u001b[1;33m\n",
       "\u001b[0m    \u001b[1;32mreturn\u001b[0m \u001b[0m_wrapfunc\u001b[0m\u001b[1;33m(\u001b[0m\u001b[0ma\u001b[0m\u001b[1;33m,\u001b[0m \u001b[1;34m'argmin'\u001b[0m\u001b[1;33m,\u001b[0m \u001b[0maxis\u001b[0m\u001b[1;33m=\u001b[0m\u001b[0maxis\u001b[0m\u001b[1;33m,\u001b[0m \u001b[0mout\u001b[0m\u001b[1;33m=\u001b[0m\u001b[0mout\u001b[0m\u001b[1;33m)\u001b[0m\u001b[1;33m\u001b[0m\u001b[0m\n",
       "\u001b[1;31mFile:\u001b[0m      c:\\programdata\\anaconda3\\lib\\site-packages\\numpy\\core\\fromnumeric.py\n",
       "\u001b[1;31mType:\u001b[0m      function\n"
      ]
     },
     "metadata": {},
     "output_type": "display_data"
    }
   ],
   "source": [
    "np.argmin??"
   ]
  }
 ],
 "metadata": {
  "kernelspec": {
   "display_name": "Python 3",
   "language": "python",
   "name": "python3"
  },
  "language_info": {
   "codemirror_mode": {
    "name": "ipython",
    "version": 3
   },
   "file_extension": ".py",
   "mimetype": "text/x-python",
   "name": "python",
   "nbconvert_exporter": "python",
   "pygments_lexer": "ipython3",
   "version": "3.6.4"
  }
 },
 "nbformat": 4,
 "nbformat_minor": 2
}
