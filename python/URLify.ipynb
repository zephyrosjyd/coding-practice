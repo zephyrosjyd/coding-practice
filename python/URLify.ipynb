{
 "cells": [
  {
   "cell_type": "markdown",
   "metadata": {},
   "source": [
    "### 문자열에 들어 있는 모든 공백을 '%20'으로 바꾸는 메서드를 작성하라.\n",
    "### 최종적으로 모든 문자를 다 담을 수 있을 만큼 충분한 공간이 이미 확보되어 있으며 문자열의 최종 길이가 함께 주어진다고 가정해도 된다.\n",
    "#### (JAVA로 구현한다면 배열 안에서 작업할 수 있도록 문자 배열(character array)을 이용하라.)\n",
    "\n",
    "##### 예제\n",
    "```\n",
    "input: \"Mr John Smith\", 13\n",
    "output: \"Mr%20John%20Smith\"\n",
    "```"
   ]
  }
 ],
 "metadata": {
  "kernelspec": {
   "display_name": "Python 3",
   "language": "python",
   "name": "python3"
  },
  "language_info": {
   "codemirror_mode": {
    "name": "ipython",
    "version": 3
   },
   "file_extension": ".py",
   "mimetype": "text/x-python",
   "name": "python",
   "nbconvert_exporter": "python",
   "pygments_lexer": "ipython3",
   "version": "3.6.4"
  }
 },
 "nbformat": 4,
 "nbformat_minor": 2
}
