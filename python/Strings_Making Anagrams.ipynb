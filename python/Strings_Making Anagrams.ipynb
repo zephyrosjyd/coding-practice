{
 "cells": [
  {
   "cell_type": "markdown",
   "metadata": {},
   "source": [
    "## Strings: Making Anagrams\n",
    "Alice is taking a cryptography class and finding anagrams to be very useful. We consider two strings to be anagrams of each other if the first string's letters can be rearranged to form the second string. In other words, both strings must contain the same exact letters in the same exact frequency For example, `bacdc` and `dcbac` are anagrams, but `bacdc` and `dcbad` are not.\n",
    "\n",
    "Alice decides on an encryption scheme involving two large strings where encryption is dependent on the minimum number of character deletions required to make the two strings anagrams. Can you help her find this number?\n",
    "\n",
    "Given two strings, *a* and *b*, that may or may not be of the same length, determine the minimum number of character deletions required to make *a* and *b* anagrams. Any characters can be deleted from either of the strings.\n",
    "\n",
    "#### Input Format\n",
    "\n",
    "The first line contains a single string, *a*.\n",
    "\n",
    "The second line contains a single string, *b*.\n",
    "\n",
    "#### Constraints\n",
    "\n",
    "+ $1 \\leq | a |, | b | \\leq 10^4$\n",
    "+ It is guaranteed that *a* and *b* consist of lowercase English alphabetic letters (i.e., *a* through *z*).\n",
    "\n",
    "#### Output Format\n",
    "\n",
    "Print a single integer denoting the number of characters you must delete to make the two strings anagrams of each other.\n",
    "\n",
    "#### Sample Input\n",
    "```\n",
    "cde\n",
    "abc\n",
    "```\n",
    "#### Sample Output\n",
    "```\n",
    "4\n",
    "```\n",
    "#### Explanation\n",
    "\n",
    "We delete the following characters from our two strings to turn them into anagrams of each other:\n",
    "\n",
    "1. Remove *d* and *e* from *cde* to get *c*.\n",
    "2. Remove *a* and *b* from *abc* to get *c*.\n",
    "\n",
    "We must delete *4* characters to make both strings anagrams, so we print *4* on a new line."
   ]
  },
  {
   "cell_type": "code",
   "execution_count": 6,
   "metadata": {},
   "outputs": [],
   "source": [
    "def number_needed(a, b):\n",
    "    \n",
    "    alpha = [0] * 26\n",
    "    for i in range(max(len(a), len(b))):\n",
    "        if i < len(a):\n",
    "            alpha[ord(a[i]) - ord('a')] += 1\n",
    "        if i < len(b):\n",
    "            alpha[ord(b[i]) - ord('a')] -= 1\n",
    "    \n",
    "    #return sum([x for x in alpha if x > 0]) + sum([-x for x in alpha if x < 0])\n",
    "    return sum(map(abs, alpha))"
   ]
  },
  {
   "cell_type": "markdown",
   "metadata": {},
   "source": [
    "### Time Complexity: O(2N) --> O(N)"
   ]
  },
  {
   "cell_type": "code",
   "execution_count": 7,
   "metadata": {},
   "outputs": [
    {
     "name": "stdout",
     "output_type": "stream",
     "text": [
      "abcdefggghsikjljsdf\n",
      "defghijklmn\n",
      "12\n"
     ]
    }
   ],
   "source": [
    "a = input().strip()\n",
    "b = input().strip()\n",
    "\n",
    "print(number_needed(a, b))"
   ]
  },
  {
   "cell_type": "code",
   "execution_count": 8,
   "metadata": {},
   "outputs": [],
   "source": [
    "def number_needed2(a, b):\n",
    "    total=0\n",
    "    for letter in \"abcdefghijklmnopqrstuvwxyz\":\n",
    "        total+=abs(a.count(letter)-b.count(letter))\n",
    "    return total"
   ]
  },
  {
   "cell_type": "markdown",
   "metadata": {},
   "source": [
    "### Time Complexity: O($N^2 + 2N$) --> O($N^2$)"
   ]
  },
  {
   "cell_type": "code",
   "execution_count": null,
   "metadata": {},
   "outputs": [],
   "source": []
  }
 ],
 "metadata": {
  "kernelspec": {
   "display_name": "Python 3",
   "language": "python",
   "name": "python3"
  },
  "language_info": {
   "codemirror_mode": {
    "name": "ipython",
    "version": 3
   },
   "file_extension": ".py",
   "mimetype": "text/x-python",
   "name": "python",
   "nbconvert_exporter": "python",
   "pygments_lexer": "ipython3",
   "version": "3.6.4"
  }
 },
 "nbformat": 4,
 "nbformat_minor": 2
}
