{
 "cells": [
  {
   "cell_type": "markdown",
   "metadata": {},
   "source": [
    "### 반복되는 문자의 개수를 세는 방식의 기본적인 문자열 압축 함수를 작성하라. \n",
    "#### 예를 들어 문자열 `aabccccaaa`를 압축하면 `a2b1c4a3`이 된다. 만약 '압축된' 문자열의 길이가 기존 문자열의 길이보다 길다면 기존 문자열을 반환해야 한다. 문자열은 *소문자 알파벳(a~z)*으로만 이루어져 있다."
   ]
  },
  {
   "cell_type": "code",
   "execution_count": 14,
   "metadata": {},
   "outputs": [],
   "source": [
    "def compress(s):\n",
    "    sdict = {}\n",
    "    for c in s:\n",
    "        cnt = sdict.get(c)+1 if c in sdict else 1\n",
    "        sdict[c] = cnt\n",
    "    print(sdict)     \n",
    "    compressed = ''.join([k + str(v) for (k, v) in sdict.items()])\n",
    "    \n",
    "    return compressed if len(compressed) < len(s) else s        "
   ]
  },
  {
   "cell_type": "code",
   "execution_count": 15,
   "metadata": {},
   "outputs": [
    {
     "name": "stdout",
     "output_type": "stream",
     "text": [
      "{'a': 5, 'b': 1, 'c': 4}\n"
     ]
    },
    {
     "data": {
      "text/plain": [
       "'a5b1c4'"
      ]
     },
     "execution_count": 15,
     "metadata": {},
     "output_type": "execute_result"
    }
   ],
   "source": [
    "compress('aabccccaaa')\n",
    "# not correct answer: failure"
   ]
  },
  {
   "cell_type": "code",
   "execution_count": 13,
   "metadata": {},
   "outputs": [
    {
     "data": {
      "text/plain": [
       "['a5', 'b1', 'c4']"
      ]
     },
     "execution_count": 13,
     "metadata": {},
     "output_type": "execute_result"
    }
   ],
   "source": [
    "ss = {'a': 5, 'b': 1, 'c': 4}\n",
    "list(k+str(v) for k, v in ss.items())"
   ]
  },
  {
   "cell_type": "code",
   "execution_count": 27,
   "metadata": {},
   "outputs": [],
   "source": [
    "class Stack:\n",
    "    \n",
    "    def __init__(self):\n",
    "        self.array = []\n",
    "        self.indicate = -1\n",
    "    \n",
    "    def push(self, ch):\n",
    "        self.array.append(ch)\n",
    "        self.indicate += 1\n",
    "        return self.indicate\n",
    "        \n",
    "    def pop(self):\n",
    "        value = self.array[self.indicate]\n",
    "        del self.array[self.indicate]\n",
    "        self.indicate -= 1\n",
    "        return value\n",
    "\n",
    "    \n",
    "def compress(origin):\n",
    "    \n",
    "    stack = Stack()\n",
    "    counts =[]\n",
    "    index = 0\n",
    "    last = ''\n",
    "    for ch in origin:\n",
    "        if last == ch:\n",
    "            counts[index] += 1\n",
    "        else:\n",
    "            index = stack.push(ch)\n",
    "            counts.append(1)\n",
    "            \n",
    "        last = ch\n",
    "    \n",
    "    compressed = ''.join([k+str(v) for k, v in zip(stack.array, counts)])\n",
    "    return compressed if len(compressed) < len(origin) else origin"
   ]
  },
  {
   "cell_type": "code",
   "execution_count": 28,
   "metadata": {},
   "outputs": [
    {
     "data": {
      "text/plain": [
       "'a2b1c4a3'"
      ]
     },
     "execution_count": 28,
     "metadata": {},
     "output_type": "execute_result"
    }
   ],
   "source": [
    "compress('aabccccaaa')"
   ]
  },
  {
   "cell_type": "code",
   "execution_count": 29,
   "metadata": {},
   "outputs": [
    {
     "data": {
      "text/plain": [
       "'aabca'"
      ]
     },
     "execution_count": 29,
     "metadata": {},
     "output_type": "execute_result"
    }
   ],
   "source": [
    "compress('aabca')"
   ]
  },
  {
   "cell_type": "code",
   "execution_count": 32,
   "metadata": {},
   "outputs": [
    {
     "data": {
      "text/plain": [
       "['1', 1, 'a', 2]"
      ]
     },
     "execution_count": 32,
     "metadata": {},
     "output_type": "execute_result"
    }
   ],
   "source": [
    "a = ['1', 1,'a', 2]\n",
    "a"
   ]
  },
  {
   "cell_type": "code",
   "execution_count": null,
   "metadata": {},
   "outputs": [],
   "source": [
    "def compress(origin):\n",
    "    \n",
    "    array = [origin[0], 1]\n",
    "    index = 0\n",
    "    \n",
    "    for ch in origin:\n",
    "        if array[index] == ch:\n",
    "            array[index+1] += 1\n",
    "        else:\n",
    "            index += 2\n",
    "            array.append(ch)\n",
    "            array.append(1)\n",
    "     \n",
    "    compressed = ''.join( )\n",
    "    "
   ]
  }
 ],
 "metadata": {
  "kernelspec": {
   "display_name": "Python [default]",
   "language": "python",
   "name": "python3"
  },
  "language_info": {
   "codemirror_mode": {
    "name": "ipython",
    "version": 3
   },
   "file_extension": ".py",
   "mimetype": "text/x-python",
   "name": "python",
   "nbconvert_exporter": "python",
   "pygments_lexer": "ipython3",
   "version": "3.6.4"
  }
 },
 "nbformat": 4,
 "nbformat_minor": 2
}
