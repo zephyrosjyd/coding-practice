{
 "cells": [
  {
   "cell_type": "markdown",
   "metadata": {},
   "source": [
    "#### Note: Write a solution that only iterates over the string once and uses O(1) additional memory, since this is what you would be asked to do during a real interview.\n",
    "\n",
    "Given a string `s`, find and return the first instance of a non-repeating character in it. If there is no such character, return `'_'`.\n",
    "\n",
    "##### Example\n",
    "\n",
    "- For `s = \"abacabad\"`, the output should be `firstNotRepeatingCharacter(s) = 'c'`.\n",
    "\n",
    "  There are 2 non-repeating characters in the string: `'c'` and `'d'`. Return `c` since it appears in the string first.\n",
    "\n",
    "- For `s = \"abacabaabacaba\"`, the output should be `firstNotRepeatingCharacter(s) = '_'`.\n",
    "\n",
    "  There are no characters in this string that do not repeat.\n",
    "\n",
    "##### Input/Output\n",
    "\n",
    "+ __[execution time limit] 4 seconds (py3)__\n",
    "\n",
    "+ __[input] string s__\n",
    "\n",
    "  A string that contains only lowercase English letters.\n",
    "\n",
    "  Guaranteed constraints:<br>\n",
    "  $1 \\leq s.length \\leq 10^5$.\n",
    "\n",
    "+ __[output] char__\n",
    "\n",
    "  The first non-repeating character in s, or '_' if there are no characters that do not repeat.\n",
    "\n"
   ]
  },
  {
   "cell_type": "code",
   "execution_count": 1,
   "metadata": {},
   "outputs": [],
   "source": [
    "def firstNotRepeatingCharacter(s): \n",
    "    count = [-1] * (ord('z') - ord('a') + 1)\n",
    "    for i, c in enumerate(s):\n",
    "        idx = ord(c) - ord('a')\n",
    "        if count[idx] < 0:\n",
    "            count[idx] = i\n",
    "        else:\n",
    "            count[idx] += len(s)\n",
    "    \n",
    "    min = len(s)\n",
    "    for i in range(len(count)):\n",
    "        if 0 <= count[i] < len(s) and min > count[i]:\n",
    "            min = count[i]\n",
    "                \n",
    "    return s[min] if min < len(s) else '_'"
   ]
  },
  {
   "cell_type": "code",
   "execution_count": 2,
   "metadata": {},
   "outputs": [
    {
     "data": {
      "text/plain": [
       "'g'"
      ]
     },
     "execution_count": 2,
     "metadata": {},
     "output_type": "execute_result"
    }
   ],
   "source": [
    "firstNotRepeatingCharacter(\"ngrhhqbhnsipkcoqjyviikvxbxyphsnjpdxkhtadltsuxbfbrkof\")"
   ]
  },
  {
   "cell_type": "code",
   "execution_count": 3,
   "metadata": {},
   "outputs": [
    {
     "data": {
      "text/plain": [
       "'c'"
      ]
     },
     "execution_count": 3,
     "metadata": {},
     "output_type": "execute_result"
    }
   ],
   "source": [
    "firstNotRepeatingCharacter(\"abacabad\")"
   ]
  },
  {
   "cell_type": "markdown",
   "metadata": {},
   "source": [
    "#### Time Complexity: O(N + a) ==> O(N)\n",
    "#### Space Complexity: O(1)\n",
    "----"
   ]
  },
  {
   "cell_type": "code",
   "execution_count": 4,
   "metadata": {},
   "outputs": [],
   "source": [
    "def firstNotRepeatingCharacter(s):\n",
    "    for ch in s:\n",
    "        if s.index(ch) == s.rindex(ch):\n",
    "            return ch\n",
    "    else:\n",
    "        return '_'"
   ]
  },
  {
   "cell_type": "code",
   "execution_count": 5,
   "metadata": {},
   "outputs": [
    {
     "data": {
      "text/plain": [
       "'g'"
      ]
     },
     "execution_count": 5,
     "metadata": {},
     "output_type": "execute_result"
    }
   ],
   "source": [
    "firstNotRepeatingCharacter(\"ngrhhqbhnsipkcoqjyviikvxbxyphsnjpdxkhtadltsuxbfbrkof\")"
   ]
  },
  {
   "cell_type": "code",
   "execution_count": 6,
   "metadata": {},
   "outputs": [
    {
     "data": {
      "text/plain": [
       "'c'"
      ]
     },
     "execution_count": 6,
     "metadata": {},
     "output_type": "execute_result"
    }
   ],
   "source": [
    "firstNotRepeatingCharacter(\"abacabad\")"
   ]
  },
  {
   "cell_type": "markdown",
   "metadata": {},
   "source": [
    "##### Time Complexity: $O(N * (2n)), n < N ==> O(N^2)$ but probably almost O(N)\n",
    "##### Space Complexity: $O(1)$ "
   ]
  },
  {
   "cell_type": "code",
   "execution_count": null,
   "metadata": {},
   "outputs": [],
   "source": []
  }
 ],
 "metadata": {
  "kernelspec": {
   "display_name": "Python [default]",
   "language": "python",
   "name": "python3"
  },
  "language_info": {
   "codemirror_mode": {
    "name": "ipython",
    "version": 3
   },
   "file_extension": ".py",
   "mimetype": "text/x-python",
   "name": "python",
   "nbconvert_exporter": "python",
   "pygments_lexer": "ipython3",
   "version": "3.6.4"
  }
 },
 "nbformat": 4,
 "nbformat_minor": 2
}
