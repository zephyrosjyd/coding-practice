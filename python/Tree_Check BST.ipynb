{
 "cells": [
  {
   "cell_type": "markdown",
   "metadata": {},
   "source": [
    "## Trees: Is This a Binary Search Tree?\n",
    "\n",
    "For the purposes of this challenge, we define a binary search tree to be a binary tree with the following ordering properties:\n",
    "\n",
    "The `data` value of every node in a node's left subtree is less than the data value of that node.\n",
    "The `data` value of every node in a node's right subtree is greater than the data value of that node.\n",
    "Given the root node of a binary tree, can you determine if it's also a binary search tree?\n",
    "\n",
    "Complete the function in your editor below, which has `1` parameter: a pointer to the root of a binary tree. It must return a boolean denoting whether or not the binary tree is a binary search tree. You may have to write one or more helper functions to complete this challenge.\n",
    "\n",
    "**Note**: We do not consider a binary tree to be a binary search tree if it contains duplicate values.\n",
    "\n",
    "#### Input Format\n",
    "\n",
    "You are not responsible for reading any input from stdin. Hidden code stubs will assemble a binary tree and pass its root node to your function as an argument.\n",
    "\n",
    "#### Constraints\n",
    "\n",
    "+ $0 \\leq data \\leq 10^4$\n",
    "\n",
    "#### Output Format\n",
    "\n",
    "You are not responsible for printing any output to stdout. Your function must return true if the tree is a binary search tree; otherwise, it must return false. Hidden code stubs will print this result as a Yes or No answer on a new line.\n",
    "\n",
    "#### Sample Input\n",
    "\n",
    "![tree](../img/bst-tree.jpg \"tree\")\n",
    "\n",
    "#### Sample Output\n",
    "```\n",
    "Yes\n",
    "```\n",
    "#### Explanation\n",
    "\n",
    "The tree in the diagram satisfies the ordering property for a Binary Search Tree, so we print `Yes`."
   ]
  },
  {
   "cell_type": "code",
   "execution_count": 2,
   "metadata": {},
   "outputs": [],
   "source": [
    "class node:\n",
    "    \"\"\" Node is defined as \"\"\"\n",
    "    def __init__(self, data):\n",
    "        self.data = data\n",
    "        self.left = None\n",
    "        self.right = None"
   ]
  },
  {
   "cell_type": "markdown",
   "metadata": {},
   "source": [
    "### Below is a wrong answer!"
   ]
  },
  {
   "cell_type": "code",
   "execution_count": 4,
   "metadata": {},
   "outputs": [],
   "source": [
    "def checkBST(root):\n",
    "    return root.left.data < root.data < root.right.data and check_left(root.left, root.data) and check_right(root.right, root.data)\n",
    "\n",
    "def check_left(node, data):\n",
    "    if node.left is None or node.right is None:\n",
    "        return True\n",
    "    if node.left.data < node.data < node.right.data and node.right.data < data:\n",
    "        return check_left(node.left, node.data) and check_right(node.right, node.data)\n",
    "    return False\n",
    "\n",
    "def check_right(node, data):\n",
    "    if node.left is None or node.right is None:\n",
    "        return True\n",
    "    if node.left.data < node.data < node.right.data and node.left.data > data:\n",
    "        return check_left(node.left, node.data) and check_right(node.right, node.data)\n",
    "    return False"
   ]
  },
  {
   "cell_type": "markdown",
   "metadata": {},
   "source": [
    "### Simple Dynamic Programming"
   ]
  },
  {
   "cell_type": "code",
   "execution_count": 5,
   "metadata": {},
   "outputs": [],
   "source": [
    "MIN = -1\n",
    "MAX = 10**4 + 1\n",
    "\n",
    "def checkBST(root):\n",
    "    return check(root, MIN, MAX)\n",
    "\n",
    "def check(node, left, right):\n",
    "    if node is None: return True\n",
    "    if not (left < node.data < right): return False\n",
    "    return check(node.left, left, node.data) and check(node.right, node.data, right)"
   ]
  },
  {
   "cell_type": "markdown",
   "metadata": {},
   "source": [
    "### Time Complexity: O(n)"
   ]
  },
  {
   "cell_type": "code",
   "execution_count": null,
   "metadata": {},
   "outputs": [],
   "source": []
  }
 ],
 "metadata": {
  "kernelspec": {
   "display_name": "Python [default]",
   "language": "python",
   "name": "python3"
  },
  "language_info": {
   "codemirror_mode": {
    "name": "ipython",
    "version": 3
   },
   "file_extension": ".py",
   "mimetype": "text/x-python",
   "name": "python",
   "nbconvert_exporter": "python",
   "pygments_lexer": "ipython3",
   "version": "3.6.4"
  }
 },
 "nbformat": 4,
 "nbformat_minor": 2
}
