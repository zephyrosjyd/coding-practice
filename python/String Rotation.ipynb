{
 "cells": [
  {
   "cell_type": "markdown",
   "metadata": {},
   "source": [
    "### 한 단어가 다른 문자열에 포함되어 있는지 판별하는 isSubstring이라는 함수가 있다고 하자. \n",
    "### s1과 s2의 두 문자열이 주어졌고, s2가 s1을 회전시킨 결과인지 판별하고자 한다.\n",
    "#### (가령 'waterbottle'은 'erbottlewat'을 회전시켜 얻을 수 있는 문자열이다.) \n",
    "### isSubstring 함수를 한 번만 호출해서 판별할 수 있는 코드를 작성하라."
   ]
  }
 ],
 "metadata": {
  "kernelspec": {
   "display_name": "Python 3",
   "language": "python",
   "name": "python3"
  },
  "language_info": {
   "codemirror_mode": {
    "name": "ipython",
    "version": 3
   },
   "file_extension": ".py",
   "mimetype": "text/x-python",
   "name": "python",
   "nbconvert_exporter": "python",
   "pygments_lexer": "ipython3",
   "version": "3.6.4"
  }
 },
 "nbformat": 4,
 "nbformat_minor": 2
}
