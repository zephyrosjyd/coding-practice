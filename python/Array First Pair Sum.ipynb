{
 "cells": [
  {
   "cell_type": "markdown",
   "metadata": {},
   "source": [
    "## 정수 배열과 정수 k가 주어지면, 두 원소의 합이 k가 되는 첫번째 두 원소의 인덱스를 찾으시오.\n",
    "### 단, 시간복잡도는 O(n)\n",
    "\n",
    "#### 예제)\n",
    "```\n",
    "input: [2, 5, 6, 1, 10], target 8\n",
    "output: [0, 2]    // 배열[0] + 배열[2] = 8\n",
    "```"
   ]
  },
  {
   "cell_type": "code",
   "execution_count": 3,
   "metadata": {
    "collapsed": true
   },
   "outputs": [],
   "source": [
    "def findIndices(arr, target):\n",
    "    traversed = {}\n",
    "    for i in range(len(arr)):\n",
    "        complement = target - arr[i]\n",
    "        if complement in traversed:\n",
    "            return [traversed.get(complement), i]\n",
    "        traversed[arr[i]] = i\n",
    "    return [-1, -1]"
   ]
  },
  {
   "cell_type": "code",
   "execution_count": 5,
   "metadata": {},
   "outputs": [
    {
     "name": "stdout",
     "output_type": "stream",
     "text": [
      "[0, 2]\n"
     ]
    }
   ],
   "source": [
    "result = findIndices([2, 5, 6, 1, 10], 8)\n",
    "print(result)"
   ]
  },
  {
   "cell_type": "code",
   "execution_count": 7,
   "metadata": {},
   "outputs": [
    {
     "name": "stdout",
     "output_type": "stream",
     "text": [
      "[4, 10]\n"
     ]
    }
   ],
   "source": [
    "arr = [3, 4, 6, 7, 2, 1,45, 552, 476, 52, 28, 9]\n",
    "target = 30\n",
    "result = findIndices(arr, target)\n",
    "print(result)"
   ]
  },
  {
   "cell_type": "code",
   "execution_count": 10,
   "metadata": {},
   "outputs": [
    {
     "name": "stdout",
     "output_type": "stream",
     "text": [
      "[0, 11]\n"
     ]
    }
   ],
   "source": [
    "#arr = [3, 4, 6, 7, 2, 1,45, 552, 476, 52, 28, 9]\n",
    "target = 12\n",
    "result = findIndices(arr, target)\n",
    "print(result)"
   ]
  },
  {
   "cell_type": "code",
   "execution_count": 11,
   "metadata": {},
   "outputs": [
    {
     "name": "stdout",
     "output_type": "stream",
     "text": [
      "[0, 1]\n"
     ]
    }
   ],
   "source": [
    "#arr = [3, 4, 6, 7, 2, 1,45, 552, 476, 52, 28, 9]\n",
    "target = 7\n",
    "result = findIndices(arr, target)\n",
    "print(result)"
   ]
  },
  {
   "cell_type": "code",
   "execution_count": 12,
   "metadata": {},
   "outputs": [
    {
     "name": "stdout",
     "output_type": "stream",
     "text": [
      "[1, 2]\n"
     ]
    }
   ],
   "source": [
    "#arr = [3, 4, 6, 7, 2, 1,45, 552, 476, 52, 28, 9]\n",
    "target = 10\n",
    "result = findIndices(arr, target)\n",
    "print(result)"
   ]
  },
  {
   "cell_type": "code",
   "execution_count": null,
   "metadata": {
    "collapsed": true
   },
   "outputs": [],
   "source": []
  }
 ],
 "metadata": {
  "kernelspec": {
   "display_name": "Python 3",
   "language": "python",
   "name": "python3"
  },
  "language_info": {
   "codemirror_mode": {
    "name": "ipython",
    "version": 3
   },
   "file_extension": ".py",
   "mimetype": "text/x-python",
   "name": "python",
   "nbconvert_exporter": "python",
   "pygments_lexer": "ipython3",
   "version": "3.6.3"
  }
 },
 "nbformat": 4,
 "nbformat_minor": 2
}
