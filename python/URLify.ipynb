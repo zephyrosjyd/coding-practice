{
 "cells": [
  {
   "cell_type": "markdown",
   "metadata": {},
   "source": [
    "### 문자열에 들어 있는 모든 공백을 '%20'으로 바꾸는 메서드를 작성하라.\n",
    "### 최종적으로 모든 문자를 다 담을 수 있을 만큼 충분한 공간이 이미 확보되어 있으며 문자열의 최종 길이가 함께 주어진다고 가정해도 된다.\n",
    "#### (JAVA로 구현한다면 배열 안에서 작업할 수 있도록 문자 배열(character array)을 이용하라.)\n",
    "\n",
    "##### 예제\n",
    "```\n",
    "input: \"Mr John Smith\", 13\n",
    "output: \"Mr%20John%20Smith\"\n",
    "```"
   ]
  },
  {
   "cell_type": "code",
   "execution_count": 33,
   "metadata": {
    "collapsed": true
   },
   "outputs": [],
   "source": [
    "def urlify(url, length):\n",
    "    \n",
    "    space_count = len([c for c in url if c == ' '])\n",
    "    result_len = length + space_count*2  \n",
    "    #print(\"space_count=\" + str(space_count))\n",
    "    #print(\"result_len=\" + str(result_len))\n",
    "   \n",
    "    i, j = length - 1, result_len - 1\n",
    "    while i >= 0:\n",
    "        \n",
    "        if url[i] == ' ':\n",
    "            url[j - 2] = '%'\n",
    "            url[j - 1] = '2'\n",
    "            url[j - 0] = '0'\n",
    "            j -= 3\n",
    "        else:\n",
    "            url[j] = url[i]\n",
    "            j -= 1\n",
    "            \n",
    "        i -= 1\n",
    "            \n",
    "    return ''.join(url)"
   ]
  },
  {
   "cell_type": "code",
   "execution_count": 34,
   "metadata": {},
   "outputs": [
    {
     "data": {
      "text/plain": [
       "'Mr%20John%20Smith'"
      ]
     },
     "execution_count": 34,
     "metadata": {},
     "output_type": "execute_result"
    }
   ],
   "source": [
    "url = list(\"Mr John Smith\") + ['\\0'] * 4\n",
    "urlify(url, 13)"
   ]
  },
  {
   "cell_type": "code",
   "execution_count": 22,
   "metadata": {},
   "outputs": [
    {
     "name": "stdout",
     "output_type": "stream",
     "text": [
      "['M', 'r', ' ', 'J', 'o', 'h', 'n', ' ', 'S', 'm', 'i', 't', 'h', '\\x00', '\\x00', '\\x00', '\\x00']\n",
      "[' ', ' ']\n"
     ]
    }
   ],
   "source": [
    "url = list(\"Mr John Smith\") + ['\\0'] * 4\n",
    "print(url)\n",
    "b = [c for c in url if c == ' ']\n",
    "print(b)"
   ]
  },
  {
   "cell_type": "code",
   "execution_count": null,
   "metadata": {
    "collapsed": true
   },
   "outputs": [],
   "source": []
  }
 ],
 "metadata": {
  "kernelspec": {
   "display_name": "Python [default]",
   "language": "python",
   "name": "python3"
  },
  "language_info": {
   "codemirror_mode": {
    "name": "ipython",
    "version": 3
   },
   "file_extension": ".py",
   "mimetype": "text/x-python",
   "name": "python",
   "nbconvert_exporter": "python",
   "pygments_lexer": "ipython3",
   "version": "3.6.4"
  }
 },
 "nbformat": 4,
 "nbformat_minor": 2
}
