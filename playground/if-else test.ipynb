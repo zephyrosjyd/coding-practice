{
 "cells": [
  {
   "cell_type": "markdown",
   "metadata": {},
   "source": [
    "## Python If-Else\n",
    "-------\n",
    "\n",
    "### Task \n",
    "#### Given an integer, `n`, perform the following conditional actions:\n",
    "\n",
    "If `n` is odd, print `Weird`.\n",
    "\n",
    "If `n` is even and in the inclusive range of 2 to 5, print `Not Weird`.\n",
    "\n",
    "If `n` is even and in the inclusive range of 6 to 20, print `Weird`.\n",
    "\n",
    "If `n` is even and greater than 20, print `Not Weird`.\n",
    "\n",
    "\n",
    "### Input Format\n",
    "A single line containing a positive integer, `n`.\n",
    "\n",
    "### Constraints\n",
    "$1 \\leq n \\leq 100$\n",
    "\n",
    "### Output Format\n",
    "Print `Weird` if the number is weird; otherwise, print `Not Weird`.\n"
   ]
  },
  {
   "cell_type": "code",
   "execution_count": 27,
   "metadata": {},
   "outputs": [],
   "source": [
    "def printConditionalWeirdness(n):\n",
    "    \n",
    "    if n % 2 == 0 and (n < 6 or n > 20):\n",
    "        print(str(n) + \" is Not Weird.\")\n",
    "    else:\n",
    "        print(str(n) + \" is Weird.\")"
   ]
  },
  {
   "cell_type": "code",
   "execution_count": 28,
   "metadata": {},
   "outputs": [
    {
     "name": "stdout",
     "output_type": "stream",
     "text": [
      "1 is Weird.\n",
      "2 is Not Weird.\n",
      "5 is Weird.\n",
      "6 is Weird.\n",
      "7 is Weird.\n",
      "20 is Weird.\n",
      "22 is Not Weird.\n",
      "87 is Weird.\n"
     ]
    }
   ],
   "source": [
    "printConditionalWeirdness(1)\n",
    "printConditionalWeirdness(2)\n",
    "printConditionalWeirdness(5)\n",
    "printConditionalWeirdness(6)\n",
    "printConditionalWeirdness(7)\n",
    "printConditionalWeirdness(20)\n",
    "printConditionalWeirdness(22)\n",
    "printConditionalWeirdness(87)"
   ]
  },
  {
   "cell_type": "code",
   "execution_count": null,
   "metadata": {},
   "outputs": [],
   "source": []
  }
 ],
 "metadata": {
  "kernelspec": {
   "display_name": "Python 3",
   "language": "python",
   "name": "python3"
  },
  "language_info": {
   "codemirror_mode": {
    "name": "ipython",
    "version": 3
   },
   "file_extension": ".py",
   "mimetype": "text/x-python",
   "name": "python",
   "nbconvert_exporter": "python",
   "pygments_lexer": "ipython3",
   "version": "3.6.4"
  }
 },
 "nbformat": 4,
 "nbformat_minor": 2
}
